{
  "nbformat": 4,
  "nbformat_minor": 0,
  "metadata": {
    "colab": {
      "name": "Seminar2.ipynb",
      "provenance": [],
      "collapsed_sections": [],
      "toc_visible": true
    },
    "kernelspec": {
      "name": "python3",
      "display_name": "Python 3"
    }
  },
  "cells": [
    {
      "cell_type": "markdown",
      "metadata": {
        "id": "uk7cQO_KS9ad"
      },
      "source": [
        "#*Plan* \n",
        "- ## NumPy\n",
        "- ## Pandas\n",
        "- ## Matplotlib"
      ]
    },
    {
      "cell_type": "markdown",
      "metadata": {
        "id": "6oEDvW4OBfE-"
      },
      "source": [
        "## <font color =\"blue\"> Materials for this lecture you can find in the book Wes McKinney - Python for Data Analyis </font>\n",
        "## <font color =\"blue\">Python Data Science Handbook Jake Vanderplas</font>"
      ]
    },
    {
      "cell_type": "code",
      "metadata": {
        "id": "Pkra-IPdIpNe"
      },
      "source": [
        "from IPython.display import Image\n",
        "from IPython.core.display import HTML "
      ],
      "execution_count": null,
      "outputs": []
    },
    {
      "cell_type": "code",
      "metadata": {
        "id": "-1pXk4OxIpxx",
        "colab": {
          "base_uri": "https://localhost:8080/",
          "height": 327
        },
        "outputId": "b9f07814-cd10-4774-c2a3-19d07f66e225"
      },
      "source": [
        "Image(url= \"https://miro.medium.com/max/765/1*qePzd2m_uIPvsozXYh89CQ.png\")"
      ],
      "execution_count": null,
      "outputs": [
        {
          "output_type": "execute_result",
          "data": {
            "text/html": [
              "<img src=\"https://miro.medium.com/max/765/1*qePzd2m_uIPvsozXYh89CQ.png\"/>"
            ],
            "text/plain": [
              "<IPython.core.display.Image object>"
            ]
          },
          "metadata": {
            "tags": []
          },
          "execution_count": 77
        }
      ]
    },
    {
      "cell_type": "markdown",
      "metadata": {
        "id": "quVVerlniG7u"
      },
      "source": [
        "\n",
        "Numpy, short for Numerical Python, is one of the most important foundational packages for numerical computing in Python.<br>\n",
        "One of the reasons NumPy is so important for numerical computations in Python is because it is designed for efficiency on large arrays of data. There are a number of reasons for this, most important NumPy operations perform complex computations on entire arrays without the need for Python loops. <br>\n",
        "\n",
        "NumPy most important object is n-dimensional array or ndarray.\n",
        "\n",
        "Numpy is \n",
        "\n",
        "1.   Convinient\n",
        "2.   Fast\n",
        "3.   Memory efficient\n",
        "\n"
      ]
    },
    {
      "cell_type": "markdown",
      "metadata": {
        "id": "lp4mWpmlpoc5"
      },
      "source": [
        "Numpy is convinient"
      ]
    },
    {
      "cell_type": "code",
      "metadata": {
        "id": "qHMhmp4JS_q1"
      },
      "source": [
        "import numpy as np"
      ],
      "execution_count": null,
      "outputs": []
    },
    {
      "cell_type": "code",
      "metadata": {
        "id": "xnqYuFqqoxam",
        "colab": {
          "base_uri": "https://localhost:8080/",
          "height": 34
        },
        "outputId": "17c253ef-e47d-4828-d33a-9fefde2b0f5e"
      },
      "source": [
        "l1 = [100,200,300,400,500]\n",
        "l2 = [100,100,100,100,100]\n",
        "l3 = []\n",
        "for priv, soc in zip(l1,l2):\n",
        "  l3.append(priv+soc)\n",
        "print(l3)"
      ],
      "execution_count": null,
      "outputs": [
        {
          "output_type": "stream",
          "text": [
            "[200, 300, 400, 500, 600]\n"
          ],
          "name": "stdout"
        }
      ]
    },
    {
      "cell_type": "code",
      "metadata": {
        "id": "fJF3NHAKoXei"
      },
      "source": [
        "a1 = np.array([100,200,300,400,500])\n",
        "a2 = np.array([100,100,100,100,100])"
      ],
      "execution_count": null,
      "outputs": []
    },
    {
      "cell_type": "code",
      "metadata": {
        "id": "FdYWc7QJoYCy",
        "colab": {
          "base_uri": "https://localhost:8080/",
          "height": 34
        },
        "outputId": "a2db664d-bc93-4b96-ad90-aea210dc546d"
      },
      "source": [
        "a3 = a1+a2\n",
        "a3"
      ],
      "execution_count": null,
      "outputs": [
        {
          "output_type": "execute_result",
          "data": {
            "text/plain": [
              "array([200, 300, 400, 500, 600])"
            ]
          },
          "metadata": {
            "tags": []
          },
          "execution_count": 70
        }
      ]
    },
    {
      "cell_type": "code",
      "metadata": {
        "id": "HypIRZaUpees",
        "colab": {
          "base_uri": "https://localhost:8080/",
          "height": 34
        },
        "outputId": "d4b5a689-5e29-4b3c-dad2-ccf271fb3bf5"
      },
      "source": [
        "a1/a2"
      ],
      "execution_count": null,
      "outputs": [
        {
          "output_type": "execute_result",
          "data": {
            "text/plain": [
              "array([1., 2., 3., 4., 5.])"
            ]
          },
          "metadata": {
            "tags": []
          },
          "execution_count": 15
        }
      ]
    },
    {
      "cell_type": "code",
      "metadata": {
        "id": "iOI00t7mpeod",
        "colab": {
          "base_uri": "https://localhost:8080/",
          "height": 34
        },
        "outputId": "2a26d944-b270-4b10-f430-98b5cc144e01"
      },
      "source": [
        "a1*a2"
      ],
      "execution_count": null,
      "outputs": [
        {
          "output_type": "execute_result",
          "data": {
            "text/plain": [
              "array([10000, 20000, 30000, 40000, 50000])"
            ]
          },
          "metadata": {
            "tags": []
          },
          "execution_count": 71
        }
      ]
    },
    {
      "cell_type": "code",
      "metadata": {
        "id": "bLaqL2dmpeqz",
        "colab": {
          "base_uri": "https://localhost:8080/",
          "height": 34
        },
        "outputId": "b602014d-6558-495a-bc17-6807f697c314"
      },
      "source": [
        "a1-a2"
      ],
      "execution_count": null,
      "outputs": [
        {
          "output_type": "execute_result",
          "data": {
            "text/plain": [
              "array([  0, 100, 200, 300, 400])"
            ]
          },
          "metadata": {
            "tags": []
          },
          "execution_count": 72
        }
      ]
    },
    {
      "cell_type": "markdown",
      "metadata": {
        "id": "wYta2rTwplBE"
      },
      "source": [
        "Numpy is Fast <br>\n",
        "To give you an idea of perfomance difference, consider a NumPy array of one million integers, and the equivalent Python list.\n"
      ]
    },
    {
      "cell_type": "code",
      "metadata": {
        "id": "j_VdvBDbkzlc"
      },
      "source": [
        "my_arr = np.arange(100000000)"
      ],
      "execution_count": null,
      "outputs": []
    },
    {
      "cell_type": "code",
      "metadata": {
        "id": "kmoVTlDWk4jm"
      },
      "source": [
        "my_list = list(range(100000000))"
      ],
      "execution_count": null,
      "outputs": []
    },
    {
      "cell_type": "code",
      "metadata": {
        "id": "XJC7V5Kqk8V4",
        "colab": {
          "base_uri": "https://localhost:8080/",
          "height": 51
        },
        "outputId": "372cf5fb-727d-4fb6-e2f3-55ef9b09bbdf"
      },
      "source": [
        "%time my_arr2 = my_arr*2"
      ],
      "execution_count": null,
      "outputs": [
        {
          "output_type": "stream",
          "text": [
            "CPU times: user 141 ms, sys: 347 ms, total: 487 ms\n",
            "Wall time: 494 ms\n"
          ],
          "name": "stdout"
        }
      ]
    },
    {
      "cell_type": "code",
      "metadata": {
        "id": "xg43Y1DflLTS",
        "colab": {
          "base_uri": "https://localhost:8080/",
          "height": 51
        },
        "outputId": "b847a074-3005-45b7-e2b9-2e35b05aff28"
      },
      "source": [
        "%time my_arr2 = []\n",
        "for item in my_list:\n",
        "  my_arr2.append(item*2)\n"
      ],
      "execution_count": null,
      "outputs": [
        {
          "output_type": "stream",
          "text": [
            "CPU times: user 835 ms, sys: 130 ms, total: 966 ms\n",
            "Wall time: 968 ms\n"
          ],
          "name": "stdout"
        }
      ]
    },
    {
      "cell_type": "code",
      "metadata": {
        "id": "QAaQgibklZdG"
      },
      "source": [
        ""
      ],
      "execution_count": null,
      "outputs": []
    },
    {
      "cell_type": "markdown",
      "metadata": {
        "id": "MeqsYMLpzfVY"
      },
      "source": [
        "Memory efficient"
      ]
    },
    {
      "cell_type": "code",
      "metadata": {
        "id": "W3lFtnMvzhkI"
      },
      "source": [
        "import sys"
      ],
      "execution_count": null,
      "outputs": []
    },
    {
      "cell_type": "code",
      "metadata": {
        "id": "R97nYi3pzlhK",
        "colab": {
          "base_uri": "https://localhost:8080/",
          "height": 51
        },
        "outputId": "2d9080d7-5ca5-4c55-db27-1464b695b87e"
      },
      "source": [
        "ls = range(100)\n",
        "arr = np.arange(100)\n",
        "print(sys.getsizeof(1)*len(ls))\n",
        "print(arr.size*arr.itemsize)"
      ],
      "execution_count": null,
      "outputs": [
        {
          "output_type": "stream",
          "text": [
            "2800\n",
            "800\n"
          ],
          "name": "stdout"
        }
      ]
    },
    {
      "cell_type": "markdown",
      "metadata": {
        "id": "qdLamYrTBLaf"
      },
      "source": [
        "A ndarray is a generic multidimensional container for homogenous data; that is all of the elements must be the same type. Every array has a shape, a tuple indicating the size of the each dimension, and a dtype, an object describing the data type of the array:"
      ]
    },
    {
      "cell_type": "code",
      "metadata": {
        "id": "aXCDsczs2PGK"
      },
      "source": [
        "data = np.random.randn(2,3)"
      ],
      "execution_count": null,
      "outputs": []
    },
    {
      "cell_type": "code",
      "metadata": {
        "id": "JqVqp3C1zwqZ",
        "colab": {
          "base_uri": "https://localhost:8080/",
          "height": 51
        },
        "outputId": "54490545-11a8-491a-ffa6-a0370479b858"
      },
      "source": [
        "data"
      ],
      "execution_count": null,
      "outputs": [
        {
          "output_type": "execute_result",
          "data": {
            "text/plain": [
              "array([[-1.61546722, -1.02653239,  0.6399928 ],\n",
              "       [-0.56456418,  0.11410426, -1.2384171 ]])"
            ]
          },
          "metadata": {
            "tags": []
          },
          "execution_count": 22
        }
      ]
    },
    {
      "cell_type": "code",
      "metadata": {
        "id": "1r2xLsO52Tys",
        "colab": {
          "base_uri": "https://localhost:8080/",
          "height": 51
        },
        "outputId": "70b91e6d-a01e-4449-b8b3-181b5aaf8598"
      },
      "source": [
        "data*10"
      ],
      "execution_count": null,
      "outputs": [
        {
          "output_type": "execute_result",
          "data": {
            "text/plain": [
              "array([[-16.15467225, -10.26532392,   6.39992805],\n",
              "       [ -5.64564183,   1.14104259, -12.38417095]])"
            ]
          },
          "metadata": {
            "tags": []
          },
          "execution_count": 23
        }
      ]
    },
    {
      "cell_type": "code",
      "metadata": {
        "id": "PDYIgZ9x2YDh",
        "colab": {
          "base_uri": "https://localhost:8080/",
          "height": 34
        },
        "outputId": "abcc4bf3-416d-4488-f9dc-2f53a2569282"
      },
      "source": [
        "data.shape"
      ],
      "execution_count": null,
      "outputs": [
        {
          "output_type": "execute_result",
          "data": {
            "text/plain": [
              "(2, 3)"
            ]
          },
          "metadata": {
            "tags": []
          },
          "execution_count": 25
        }
      ]
    },
    {
      "cell_type": "code",
      "metadata": {
        "id": "wgqe4XRn2Y-v",
        "colab": {
          "base_uri": "https://localhost:8080/",
          "height": 34
        },
        "outputId": "c626917b-e7ff-4cea-ae40-a9696a8f251f"
      },
      "source": [
        "data.dtype"
      ],
      "execution_count": null,
      "outputs": [
        {
          "output_type": "execute_result",
          "data": {
            "text/plain": [
              "dtype('float64')"
            ]
          },
          "metadata": {
            "tags": []
          },
          "execution_count": 26
        }
      ]
    },
    {
      "cell_type": "code",
      "metadata": {
        "id": "zcEMN7Es20dk"
      },
      "source": [
        "data1 = [6, 7.5, 8 ,0 ,1 ]"
      ],
      "execution_count": null,
      "outputs": []
    },
    {
      "cell_type": "code",
      "metadata": {
        "id": "KuF6_48L3Cr2"
      },
      "source": [
        "arr1 = np.array(data1)"
      ],
      "execution_count": null,
      "outputs": []
    },
    {
      "cell_type": "code",
      "metadata": {
        "id": "K73q_7wI3FlD",
        "colab": {
          "base_uri": "https://localhost:8080/",
          "height": 34
        },
        "outputId": "7fe45d5d-a8ee-4663-d524-7825307d1385"
      },
      "source": [
        "arr1"
      ],
      "execution_count": null,
      "outputs": [
        {
          "output_type": "execute_result",
          "data": {
            "text/plain": [
              "array([6. , 7.5, 8. , 0. , 1. ])"
            ]
          },
          "metadata": {
            "tags": []
          },
          "execution_count": 29
        }
      ]
    },
    {
      "cell_type": "code",
      "metadata": {
        "id": "0qzv5-Gf3Ggv"
      },
      "source": [
        "data2 = [[1,2,3,4], [2,3,4,4]]\n",
        "arr2 = np.array(data2)"
      ],
      "execution_count": null,
      "outputs": []
    },
    {
      "cell_type": "code",
      "metadata": {
        "id": "vwXthc1x3QPO",
        "colab": {
          "base_uri": "https://localhost:8080/",
          "height": 51
        },
        "outputId": "4fe9cf06-e298-4f66-bcf5-4e00de75d5df"
      },
      "source": [
        "arr2"
      ],
      "execution_count": null,
      "outputs": [
        {
          "output_type": "execute_result",
          "data": {
            "text/plain": [
              "array([[1, 2, 3, 4],\n",
              "       [2, 3, 4, 4]])"
            ]
          },
          "metadata": {
            "tags": []
          },
          "execution_count": 31
        }
      ]
    },
    {
      "cell_type": "code",
      "metadata": {
        "id": "GMYIln2M3Q93",
        "colab": {
          "base_uri": "https://localhost:8080/",
          "height": 34
        },
        "outputId": "b8f5c4a6-e188-4bbb-a40a-8f0cdef32aac"
      },
      "source": [
        "arr2.shape"
      ],
      "execution_count": null,
      "outputs": [
        {
          "output_type": "execute_result",
          "data": {
            "text/plain": [
              "(2, 4)"
            ]
          },
          "metadata": {
            "tags": []
          },
          "execution_count": 32
        }
      ]
    },
    {
      "cell_type": "code",
      "metadata": {
        "id": "GeT1-yEo3ST2",
        "colab": {
          "base_uri": "https://localhost:8080/",
          "height": 34
        },
        "outputId": "d942607d-057e-416f-bf94-5a63f84c8329"
      },
      "source": [
        "np.zeros(10)"
      ],
      "execution_count": null,
      "outputs": [
        {
          "output_type": "execute_result",
          "data": {
            "text/plain": [
              "array([0., 0., 0., 0., 0., 0., 0., 0., 0., 0.])"
            ]
          },
          "metadata": {
            "tags": []
          },
          "execution_count": 33
        }
      ]
    },
    {
      "cell_type": "code",
      "metadata": {
        "id": "qhiPqTOW3hKP",
        "colab": {
          "base_uri": "https://localhost:8080/",
          "height": 34
        },
        "outputId": "120b5c6a-6dee-4b86-d817-f85aa7f097db"
      },
      "source": [
        "np.ones(10)"
      ],
      "execution_count": null,
      "outputs": [
        {
          "output_type": "execute_result",
          "data": {
            "text/plain": [
              "array([1., 1., 1., 1., 1., 1., 1., 1., 1., 1.])"
            ]
          },
          "metadata": {
            "tags": []
          },
          "execution_count": 34
        }
      ]
    },
    {
      "cell_type": "code",
      "metadata": {
        "id": "mABev_EB3jBP",
        "colab": {
          "base_uri": "https://localhost:8080/",
          "height": 68
        },
        "outputId": "b18480b0-8dc9-4965-9ee8-4a70437e9000"
      },
      "source": [
        "np.zeros((3,5))"
      ],
      "execution_count": null,
      "outputs": [
        {
          "output_type": "execute_result",
          "data": {
            "text/plain": [
              "array([[0., 0., 0., 0., 0.],\n",
              "       [0., 0., 0., 0., 0.],\n",
              "       [0., 0., 0., 0., 0.]])"
            ]
          },
          "metadata": {
            "tags": []
          },
          "execution_count": 35
        }
      ]
    },
    {
      "cell_type": "code",
      "metadata": {
        "id": "_-275m3735Wf"
      },
      "source": [
        ""
      ],
      "execution_count": null,
      "outputs": []
    },
    {
      "cell_type": "markdown",
      "metadata": {
        "id": "rCEM5YJw35vx"
      },
      "source": [
        "## Basic Indexing and Slicing\n",
        "NumPy arrat indexing is arich topic, as there are many ways you may want to select a subset of your data or individual elements. On-dimensional arrays are simple; they act similarly to Python lists"
      ]
    },
    {
      "cell_type": "code",
      "metadata": {
        "id": "ujyymaU64M8x",
        "colab": {
          "base_uri": "https://localhost:8080/",
          "height": 34
        },
        "outputId": "20068dcf-aad8-4c83-bd26-962746efab1a"
      },
      "source": [
        "a = np.arange(10)\n",
        "a[0]"
      ],
      "execution_count": null,
      "outputs": [
        {
          "output_type": "execute_result",
          "data": {
            "text/plain": [
              "0"
            ]
          },
          "metadata": {
            "tags": []
          },
          "execution_count": 37
        }
      ]
    },
    {
      "cell_type": "code",
      "metadata": {
        "id": "-z3DFRk44Qza",
        "colab": {
          "base_uri": "https://localhost:8080/",
          "height": 34
        },
        "outputId": "306366d2-3a96-4016-907a-998ccf1ce411"
      },
      "source": [
        "a[3:9]"
      ],
      "execution_count": null,
      "outputs": [
        {
          "output_type": "execute_result",
          "data": {
            "text/plain": [
              "array([3, 4, 5, 6, 7, 8])"
            ]
          },
          "metadata": {
            "tags": []
          },
          "execution_count": 39
        }
      ]
    },
    {
      "cell_type": "code",
      "metadata": {
        "id": "jlBuVG8J4TNu",
        "colab": {
          "base_uri": "https://localhost:8080/",
          "height": 34
        },
        "outputId": "3c53fef5-29ea-4435-848c-199747132f7f"
      },
      "source": [
        "a[3:9] = 999\n",
        "a"
      ],
      "execution_count": null,
      "outputs": [
        {
          "output_type": "execute_result",
          "data": {
            "text/plain": [
              "array([  0,   1,   2, 999, 999, 999, 999, 999, 999,   9])"
            ]
          },
          "metadata": {
            "tags": []
          },
          "execution_count": 40
        }
      ]
    },
    {
      "cell_type": "markdown",
      "metadata": {
        "id": "0ollD7964sdC"
      },
      "source": [
        "Higher dimensional case"
      ]
    },
    {
      "cell_type": "code",
      "metadata": {
        "id": "OvkzPObc4ehS",
        "colab": {
          "base_uri": "https://localhost:8080/",
          "height": 34
        },
        "outputId": "71a62049-a542-45a4-b822-72adc3a69a3a"
      },
      "source": [
        "arr2d = np.array([[1,2,3],[4,5,6],[7,8,9]])\n",
        "arr2d[1]"
      ],
      "execution_count": null,
      "outputs": [
        {
          "output_type": "execute_result",
          "data": {
            "text/plain": [
              "array([4, 5, 6])"
            ]
          },
          "metadata": {
            "tags": []
          },
          "execution_count": 42
        }
      ]
    },
    {
      "cell_type": "code",
      "metadata": {
        "id": "vEMCMQOs44db",
        "colab": {
          "base_uri": "https://localhost:8080/",
          "height": 34
        },
        "outputId": "f60811b2-03c6-48f5-92f3-716240e55a84"
      },
      "source": [
        "arr2d[1][1]"
      ],
      "execution_count": null,
      "outputs": [
        {
          "output_type": "execute_result",
          "data": {
            "text/plain": [
              "5"
            ]
          },
          "metadata": {
            "tags": []
          },
          "execution_count": 44
        }
      ]
    },
    {
      "cell_type": "code",
      "metadata": {
        "id": "f-IhwNWk5Zz2",
        "colab": {
          "base_uri": "https://localhost:8080/",
          "height": 68
        },
        "outputId": "0f59cfdf-215d-405b-a48a-dba1a2f72d73"
      },
      "source": [
        "arr2d"
      ],
      "execution_count": null,
      "outputs": [
        {
          "output_type": "execute_result",
          "data": {
            "text/plain": [
              "array([[1, 2, 3],\n",
              "       [4, 5, 6],\n",
              "       [7, 8, 9]])"
            ]
          },
          "metadata": {
            "tags": []
          },
          "execution_count": 45
        }
      ]
    },
    {
      "cell_type": "code",
      "metadata": {
        "id": "1Sc2kJw35ait",
        "colab": {
          "base_uri": "https://localhost:8080/",
          "height": 51
        },
        "outputId": "b9c8718b-561d-4476-c2d1-7d543ad62e7b"
      },
      "source": [
        "arr2d[:2]"
      ],
      "execution_count": null,
      "outputs": [
        {
          "output_type": "execute_result",
          "data": {
            "text/plain": [
              "array([[1, 2, 3],\n",
              "       [4, 5, 6]])"
            ]
          },
          "metadata": {
            "tags": []
          },
          "execution_count": 46
        }
      ]
    },
    {
      "cell_type": "code",
      "metadata": {
        "id": "yshcpPI55c3k"
      },
      "source": [
        "data = np.random.randn(7,4)"
      ],
      "execution_count": null,
      "outputs": []
    },
    {
      "cell_type": "code",
      "metadata": {
        "id": "9U0r2pCl6VlT",
        "colab": {
          "base_uri": "https://localhost:8080/",
          "height": 136
        },
        "outputId": "23512db1-6428-4c99-9a53-881c4a325255"
      },
      "source": [
        "data"
      ],
      "execution_count": null,
      "outputs": [
        {
          "output_type": "execute_result",
          "data": {
            "text/plain": [
              "array([[ 0.09489228,  0.25227448,  0.9420906 , -0.11185268],\n",
              "       [ 1.75817408,  0.24827457, -1.0893095 ,  0.11184248],\n",
              "       [-1.48730443,  0.06103998,  1.36347826, -0.36845844],\n",
              "       [-0.58380157, -2.68177921, -0.32324019,  0.88857594],\n",
              "       [ 0.12173626,  0.3285586 , -0.86666293,  0.38948386],\n",
              "       [ 1.75059663, -1.98075485,  0.39540382, -0.12031955],\n",
              "       [ 1.08685414,  0.41581627,  0.31100378, -0.92119794]])"
            ]
          },
          "metadata": {
            "tags": []
          },
          "execution_count": 48
        }
      ]
    },
    {
      "cell_type": "code",
      "metadata": {
        "id": "f9J2In8D6W13"
      },
      "source": [
        "data[data < 0] = 0"
      ],
      "execution_count": null,
      "outputs": []
    },
    {
      "cell_type": "code",
      "metadata": {
        "id": "HV7dbZ0f6Zrf",
        "colab": {
          "base_uri": "https://localhost:8080/",
          "height": 136
        },
        "outputId": "633c4a25-558e-43e0-f369-0479c62ffe29"
      },
      "source": [
        "data"
      ],
      "execution_count": null,
      "outputs": [
        {
          "output_type": "execute_result",
          "data": {
            "text/plain": [
              "array([[0.09489228, 0.25227448, 0.9420906 , 0.        ],\n",
              "       [1.75817408, 0.24827457, 0.        , 0.11184248],\n",
              "       [0.        , 0.06103998, 1.36347826, 0.        ],\n",
              "       [0.        , 0.        , 0.        , 0.88857594],\n",
              "       [0.12173626, 0.3285586 , 0.        , 0.38948386],\n",
              "       [1.75059663, 0.        , 0.39540382, 0.        ],\n",
              "       [1.08685414, 0.41581627, 0.31100378, 0.        ]])"
            ]
          },
          "metadata": {
            "tags": []
          },
          "execution_count": 51
        }
      ]
    },
    {
      "cell_type": "markdown",
      "metadata": {
        "id": "uHkmBppf76j3"
      },
      "source": [
        "### Statistical function"
      ]
    },
    {
      "cell_type": "code",
      "metadata": {
        "id": "9PRCwOTh75yC"
      },
      "source": [
        "arr = np.random.randn(5,4)"
      ],
      "execution_count": null,
      "outputs": []
    },
    {
      "cell_type": "code",
      "metadata": {
        "id": "VXT0B_AY8DlO",
        "colab": {
          "base_uri": "https://localhost:8080/",
          "height": 102
        },
        "outputId": "8f9acdc9-f7e1-47a6-d5b2-c394b0a28645"
      },
      "source": [
        "arr"
      ],
      "execution_count": null,
      "outputs": [
        {
          "output_type": "execute_result",
          "data": {
            "text/plain": [
              "array([[-0.27435423,  0.07262001,  0.85731941,  0.36064605],\n",
              "       [ 1.17338914, -0.3785971 , -0.0276085 , -0.51663422],\n",
              "       [-0.79517686,  0.36080684,  0.09959116, -0.08265027],\n",
              "       [ 0.62033476,  2.14710506,  0.14869197, -0.98228391],\n",
              "       [-1.06439914,  0.18658554, -0.8141048 ,  1.32160877]])"
            ]
          },
          "metadata": {
            "tags": []
          },
          "execution_count": 56
        }
      ]
    },
    {
      "cell_type": "code",
      "metadata": {
        "id": "jD5WWPWG8Hr8",
        "colab": {
          "base_uri": "https://localhost:8080/",
          "height": 34
        },
        "outputId": "4afac0a0-fcea-41f8-ce2e-a8404cb5f5bb"
      },
      "source": [
        "arr.mean()"
      ],
      "execution_count": null,
      "outputs": [
        {
          "output_type": "execute_result",
          "data": {
            "text/plain": [
              "0.12064448444455902"
            ]
          },
          "metadata": {
            "tags": []
          },
          "execution_count": 57
        }
      ]
    },
    {
      "cell_type": "code",
      "metadata": {
        "id": "vQbbBNT78J8c",
        "colab": {
          "base_uri": "https://localhost:8080/",
          "height": 34
        },
        "outputId": "ae271277-4e10-4a4e-9670-1b2cc57b2b47"
      },
      "source": [
        "np.mean(arr)"
      ],
      "execution_count": null,
      "outputs": [
        {
          "output_type": "execute_result",
          "data": {
            "text/plain": [
              "0.12064448444455902"
            ]
          },
          "metadata": {
            "tags": []
          },
          "execution_count": 58
        }
      ]
    },
    {
      "cell_type": "code",
      "metadata": {
        "id": "wmjjmKCv8LQt",
        "colab": {
          "base_uri": "https://localhost:8080/",
          "height": 34
        },
        "outputId": "fd64a5ae-ee14-4937-de37-687e8e695ee0"
      },
      "source": [
        "# across columns\n",
        "arr.mean(axis=1)"
      ],
      "execution_count": null,
      "outputs": [
        {
          "output_type": "execute_result",
          "data": {
            "text/plain": [
              "array([ 0.25405781,  0.06263733, -0.10435728,  0.48346197, -0.09257741])"
            ]
          },
          "metadata": {
            "tags": []
          },
          "execution_count": 59
        }
      ]
    },
    {
      "cell_type": "code",
      "metadata": {
        "id": "dJBOXgmN8Q0B",
        "colab": {
          "base_uri": "https://localhost:8080/",
          "height": 34
        },
        "outputId": "084a7f84-2328-4dfa-ac70-255c69208c4a"
      },
      "source": [
        "#across rows\n",
        "arr.mean(axis = 0)"
      ],
      "execution_count": null,
      "outputs": [
        {
          "output_type": "execute_result",
          "data": {
            "text/plain": [
              "array([-0.06804127,  0.47770407,  0.05277785,  0.02013728])"
            ]
          },
          "metadata": {
            "tags": []
          },
          "execution_count": 60
        }
      ]
    },
    {
      "cell_type": "code",
      "metadata": {
        "id": "uUabE00E8TqM",
        "colab": {
          "base_uri": "https://localhost:8080/",
          "height": 34
        },
        "outputId": "9163860d-4c9e-42c5-ecf7-1db6a498b37a"
      },
      "source": [
        "arr.sum()"
      ],
      "execution_count": null,
      "outputs": [
        {
          "output_type": "execute_result",
          "data": {
            "text/plain": [
              "2.4128896888911804"
            ]
          },
          "metadata": {
            "tags": []
          },
          "execution_count": 61
        }
      ]
    },
    {
      "cell_type": "code",
      "metadata": {
        "id": "0GstFqPQ8XfS",
        "colab": {
          "base_uri": "https://localhost:8080/",
          "height": 136
        },
        "outputId": "e0c5eda1-ff1b-4504-bad9-4227ef5aa159"
      },
      "source": [
        "data"
      ],
      "execution_count": null,
      "outputs": [
        {
          "output_type": "execute_result",
          "data": {
            "text/plain": [
              "array([[0.09489228, 0.25227448, 0.9420906 , 0.        ],\n",
              "       [1.75817408, 0.24827457, 0.        , 0.11184248],\n",
              "       [0.        , 0.06103998, 1.36347826, 0.        ],\n",
              "       [0.        , 0.        , 0.        , 0.88857594],\n",
              "       [0.12173626, 0.3285586 , 0.        , 0.38948386],\n",
              "       [1.75059663, 0.        , 0.39540382, 0.        ],\n",
              "       [1.08685414, 0.41581627, 0.31100378, 0.        ]])"
            ]
          },
          "metadata": {
            "tags": []
          },
          "execution_count": 62
        }
      ]
    },
    {
      "cell_type": "code",
      "metadata": {
        "id": "JW4HKOU19s55",
        "colab": {
          "base_uri": "https://localhost:8080/",
          "height": 136
        },
        "outputId": "5a61259b-9bf7-4197-9eaf-797e40f08e9b"
      },
      "source": [
        "data.sort()\n",
        "data"
      ],
      "execution_count": null,
      "outputs": [
        {
          "output_type": "execute_result",
          "data": {
            "text/plain": [
              "array([[0.        , 0.09489228, 0.25227448, 0.9420906 ],\n",
              "       [0.        , 0.11184248, 0.24827457, 1.75817408],\n",
              "       [0.        , 0.        , 0.06103998, 1.36347826],\n",
              "       [0.        , 0.        , 0.        , 0.88857594],\n",
              "       [0.        , 0.12173626, 0.3285586 , 0.38948386],\n",
              "       [0.        , 0.        , 0.39540382, 1.75059663],\n",
              "       [0.        , 0.31100378, 0.41581627, 1.08685414]])"
            ]
          },
          "metadata": {
            "tags": []
          },
          "execution_count": 64
        }
      ]
    },
    {
      "cell_type": "code",
      "metadata": {
        "id": "SRaj8Rhz9uU-",
        "colab": {
          "base_uri": "https://localhost:8080/",
          "height": 136
        },
        "outputId": "359151fd-449e-45af-b106-68f536dbb313"
      },
      "source": [
        "data.sort(axis = 0)\n",
        "data"
      ],
      "execution_count": null,
      "outputs": [
        {
          "output_type": "execute_result",
          "data": {
            "text/plain": [
              "array([[0.        , 0.        , 0.        , 0.38948386],\n",
              "       [0.        , 0.        , 0.06103998, 0.88857594],\n",
              "       [0.        , 0.        , 0.24827457, 0.9420906 ],\n",
              "       [0.        , 0.09489228, 0.25227448, 1.08685414],\n",
              "       [0.        , 0.11184248, 0.3285586 , 1.36347826],\n",
              "       [0.        , 0.12173626, 0.39540382, 1.75059663],\n",
              "       [0.        , 0.31100378, 0.41581627, 1.75817408]])"
            ]
          },
          "metadata": {
            "tags": []
          },
          "execution_count": 66
        }
      ]
    },
    {
      "cell_type": "code",
      "metadata": {
        "id": "AL9cNvk-JFrP",
        "colab": {
          "base_uri": "https://localhost:8080/",
          "height": 481
        },
        "outputId": "f2f19297-3407-4b96-a582-00af11159f40"
      },
      "source": [
        "Image(url = \"https://miro.medium.com/max/819/1*Dss7A8Z-M4x8LD9ccgw7pQ.png\")"
      ],
      "execution_count": null,
      "outputs": [
        {
          "output_type": "execute_result",
          "data": {
            "text/html": [
              "<img src=\"https://miro.medium.com/max/819/1*Dss7A8Z-M4x8LD9ccgw7pQ.png\"/>"
            ],
            "text/plain": [
              "<IPython.core.display.Image object>"
            ]
          },
          "metadata": {
            "tags": []
          },
          "execution_count": 79
        }
      ]
    },
    {
      "cell_type": "markdown",
      "metadata": {
        "id": "aNbqA4ZcH-6b"
      },
      "source": [
        "# Pandas \n",
        "Pandas contains data structures and data manipulation tools designed to make data cleaning\n",
        "and analysis fast and easy in Python. <br> \n",
        "Pandas is often used in tandem with numerical\n",
        "computing tools like NumPy and SciPy, analytical libraries like statsmodels and\n",
        "scikit-learn, and data visualization libraries like matplotlib. <br> Pandas adopts significant\n",
        "parts of NumPy’s idiomatic style of array-based computing, especially array-based\n",
        "functions and a preference for data processing without for loops"
      ]
    },
    {
      "cell_type": "markdown",
      "metadata": {
        "id": "EtajbXnJLxrY"
      },
      "source": [
        "### Series and DataFrames"
      ]
    },
    {
      "cell_type": "code",
      "metadata": {
        "id": "NJ7SEaL4L8rB"
      },
      "source": [
        "import pandas as pd"
      ],
      "execution_count": null,
      "outputs": []
    },
    {
      "cell_type": "code",
      "metadata": {
        "id": "_upxuqSZL0fo",
        "colab": {
          "base_uri": "https://localhost:8080/",
          "height": 102
        },
        "outputId": "91a7170f-ecf8-4072-e747-a52d09937e9f"
      },
      "source": [
        "obj = pd.Series([4, 7,-5, 3])\n",
        "obj"
      ],
      "execution_count": null,
      "outputs": [
        {
          "output_type": "execute_result",
          "data": {
            "text/plain": [
              "0    4\n",
              "1    7\n",
              "2   -5\n",
              "3    3\n",
              "dtype: int64"
            ]
          },
          "metadata": {
            "tags": []
          },
          "execution_count": 82
        }
      ]
    },
    {
      "cell_type": "code",
      "metadata": {
        "id": "Rvd_hnyrL7Gt",
        "colab": {
          "base_uri": "https://localhost:8080/",
          "height": 841
        },
        "outputId": "da5d62da-0a6e-44fa-bd56-277c379ae551"
      },
      "source": [
        "Image(url = \"https://embed-fastly.wistia.com/deliveries/dac3116985e248b4ececd79427d2c332a3a6dd16.webp?image_crop_resized=1280x800\")"
      ],
      "execution_count": null,
      "outputs": [
        {
          "output_type": "execute_result",
          "data": {
            "text/html": [
              "<img src=\"https://embed-fastly.wistia.com/deliveries/dac3116985e248b4ececd79427d2c332a3a6dd16.webp?image_crop_resized=1280x800\"/>"
            ],
            "text/plain": [
              "<IPython.core.display.Image object>"
            ]
          },
          "metadata": {
            "tags": []
          },
          "execution_count": 85
        }
      ]
    },
    {
      "cell_type": "code",
      "metadata": {
        "id": "GhcAWF65O5oZ"
      },
      "source": [
        "obj2 = pd.Series([4, 7, -5, 3], index=['d', 'b', 'a', 'c'])"
      ],
      "execution_count": null,
      "outputs": []
    },
    {
      "cell_type": "code",
      "metadata": {
        "id": "teXFduV9PPdY",
        "colab": {
          "base_uri": "https://localhost:8080/",
          "height": 34
        },
        "outputId": "006b2f8f-356b-4b9f-8423-bf83e70415c8"
      },
      "source": [
        "obj2.index"
      ],
      "execution_count": null,
      "outputs": [
        {
          "output_type": "execute_result",
          "data": {
            "text/plain": [
              "Index(['d', 'b', 'a', 'c'], dtype='object')"
            ]
          },
          "metadata": {
            "tags": []
          },
          "execution_count": 5
        }
      ]
    },
    {
      "cell_type": "code",
      "metadata": {
        "id": "JzBOFax9PRMW",
        "colab": {
          "base_uri": "https://localhost:8080/",
          "height": 34
        },
        "outputId": "d7feda03-a5b6-4623-f8e7-ea08349c87cc"
      },
      "source": [
        "obj2['a']"
      ],
      "execution_count": null,
      "outputs": [
        {
          "output_type": "execute_result",
          "data": {
            "text/plain": [
              "-5"
            ]
          },
          "metadata": {
            "tags": []
          },
          "execution_count": 7
        }
      ]
    },
    {
      "cell_type": "code",
      "metadata": {
        "id": "DpDfjtfbPXAs",
        "colab": {
          "base_uri": "https://localhost:8080/",
          "height": 85
        },
        "outputId": "79587c04-b869-4b39-e1dd-4c18826bcfc0"
      },
      "source": [
        "obj2[obj2 > 0]"
      ],
      "execution_count": null,
      "outputs": [
        {
          "output_type": "execute_result",
          "data": {
            "text/plain": [
              "d    4\n",
              "b    7\n",
              "c    3\n",
              "dtype: int64"
            ]
          },
          "metadata": {
            "tags": []
          },
          "execution_count": 8
        }
      ]
    },
    {
      "cell_type": "code",
      "metadata": {
        "id": "_p40mJaLPjMb",
        "colab": {
          "base_uri": "https://localhost:8080/",
          "height": 102
        },
        "outputId": "adf368b5-7f90-4a6c-bfff-0b1472c49dba"
      },
      "source": [
        "obj2*2"
      ],
      "execution_count": null,
      "outputs": [
        {
          "output_type": "execute_result",
          "data": {
            "text/plain": [
              "d     8\n",
              "b    14\n",
              "a   -10\n",
              "c     6\n",
              "dtype: int64"
            ]
          },
          "metadata": {
            "tags": []
          },
          "execution_count": 9
        }
      ]
    },
    {
      "cell_type": "markdown",
      "metadata": {
        "id": "OgsDGld0PtkF"
      },
      "source": [
        "In a way, you can think of Series as Python dictionary."
      ]
    },
    {
      "cell_type": "code",
      "metadata": {
        "id": "OPF_Kb7pPkeZ"
      },
      "source": [
        "sdata = {'Ohio': 35000, 'Texas': 71000, 'Oregon': 16000, 'Utah': 5000}\n",
        "obj3 = pd.Series(sdata)"
      ],
      "execution_count": null,
      "outputs": []
    },
    {
      "cell_type": "code",
      "metadata": {
        "id": "KmYT4YhhP-eQ",
        "colab": {
          "base_uri": "https://localhost:8080/",
          "height": 102
        },
        "outputId": "7a948cb3-e4a8-4774-93df-37c671e3bdde"
      },
      "source": [
        "obj3"
      ],
      "execution_count": null,
      "outputs": [
        {
          "output_type": "execute_result",
          "data": {
            "text/plain": [
              "Ohio      35000\n",
              "Texas     71000\n",
              "Oregon    16000\n",
              "Utah       5000\n",
              "dtype: int64"
            ]
          },
          "metadata": {
            "tags": []
          },
          "execution_count": 11
        }
      ]
    },
    {
      "cell_type": "code",
      "metadata": {
        "id": "sOb1hyaHQDBI"
      },
      "source": [
        "states = ['California', 'Ohio', 'Oregon', 'Texas']\n",
        "obj4 = pd.Series(sdata, index=states)"
      ],
      "execution_count": null,
      "outputs": []
    },
    {
      "cell_type": "code",
      "metadata": {
        "id": "Po0m4hwnQbrS",
        "colab": {
          "base_uri": "https://localhost:8080/",
          "height": 102
        },
        "outputId": "869085e5-aef3-4b4f-a2a9-fa0338051530"
      },
      "source": [
        "obj4"
      ],
      "execution_count": null,
      "outputs": [
        {
          "output_type": "execute_result",
          "data": {
            "text/plain": [
              "California        NaN\n",
              "Ohio          35000.0\n",
              "Oregon        16000.0\n",
              "Texas         71000.0\n",
              "dtype: float64"
            ]
          },
          "metadata": {
            "tags": []
          },
          "execution_count": 14
        }
      ]
    },
    {
      "cell_type": "code",
      "metadata": {
        "id": "WkEvTTMGQcvt",
        "colab": {
          "base_uri": "https://localhost:8080/",
          "height": 102
        },
        "outputId": "cd3f5105-3856-4fe4-fb24-68a166c0eaf0"
      },
      "source": [
        "obj4.isnull()"
      ],
      "execution_count": null,
      "outputs": [
        {
          "output_type": "execute_result",
          "data": {
            "text/plain": [
              "California     True\n",
              "Ohio          False\n",
              "Oregon        False\n",
              "Texas         False\n",
              "dtype: bool"
            ]
          },
          "metadata": {
            "tags": []
          },
          "execution_count": 16
        }
      ]
    },
    {
      "cell_type": "code",
      "metadata": {
        "id": "FIUlBC6wRRF_",
        "colab": {
          "base_uri": "https://localhost:8080/",
          "height": 102
        },
        "outputId": "396ed72b-2efc-491e-e0bc-f4bfbe04ea0f"
      },
      "source": [
        "obj3"
      ],
      "execution_count": null,
      "outputs": [
        {
          "output_type": "execute_result",
          "data": {
            "text/plain": [
              "Ohio      35000\n",
              "Texas     71000\n",
              "Oregon    16000\n",
              "Utah       5000\n",
              "dtype: int64"
            ]
          },
          "metadata": {
            "tags": []
          },
          "execution_count": 17
        }
      ]
    },
    {
      "cell_type": "code",
      "metadata": {
        "id": "hL7JJATHRSfV",
        "colab": {
          "base_uri": "https://localhost:8080/",
          "height": 102
        },
        "outputId": "42fca8b4-3fa5-436c-cd0f-637689d7fc6d"
      },
      "source": [
        "obj4"
      ],
      "execution_count": null,
      "outputs": [
        {
          "output_type": "execute_result",
          "data": {
            "text/plain": [
              "California        NaN\n",
              "Ohio          35000.0\n",
              "Oregon        16000.0\n",
              "Texas         71000.0\n",
              "dtype: float64"
            ]
          },
          "metadata": {
            "tags": []
          },
          "execution_count": 18
        }
      ]
    },
    {
      "cell_type": "code",
      "metadata": {
        "id": "yCOOAfmmRTK_",
        "colab": {
          "base_uri": "https://localhost:8080/",
          "height": 119
        },
        "outputId": "2f0dff53-aba4-47ca-c6eb-661ace1fe68d"
      },
      "source": [
        "obj3 + obj4"
      ],
      "execution_count": null,
      "outputs": [
        {
          "output_type": "execute_result",
          "data": {
            "text/plain": [
              "California         NaN\n",
              "Ohio           70000.0\n",
              "Oregon         32000.0\n",
              "Texas         142000.0\n",
              "Utah               NaN\n",
              "dtype: float64"
            ]
          },
          "metadata": {
            "tags": []
          },
          "execution_count": 19
        }
      ]
    },
    {
      "cell_type": "markdown",
      "metadata": {
        "id": "mYadlS4xRskk"
      },
      "source": [
        "## DataFrame\n",
        "A DataFrame represents a rectangular table of data and contains an ordered collec‐\n",
        "tion of columns, each of which can be a different value type (numeric, string,\n",
        "boolean, etc.). The DataFrame has both a row and column index; it can be thought of\n",
        "as a dict of Series all sharing the same index"
      ]
    },
    {
      "cell_type": "code",
      "metadata": {
        "id": "gARylwEmRWeH"
      },
      "source": [
        "data = {'state': ['Ohio', 'Ohio', 'Ohio', 'Nevada', 'Nevada', 'Nevada'],\n",
        "'year': [2000, 2001, 2002, 2001, 2002, 2003],\n",
        "'pop': [1.5, 1.7, 3.6, 2.4, 2.9, 3.2]}\n",
        "frame = pd.DataFrame(data)"
      ],
      "execution_count": null,
      "outputs": []
    },
    {
      "cell_type": "code",
      "metadata": {
        "id": "ZXaf39nrSDy8",
        "colab": {
          "base_uri": "https://localhost:8080/",
          "height": 235
        },
        "outputId": "18fa3fa4-cb08-4a98-b2ff-97f3b38b31c2"
      },
      "source": [
        "frame"
      ],
      "execution_count": null,
      "outputs": [
        {
          "output_type": "execute_result",
          "data": {
            "text/html": [
              "<div>\n",
              "<style scoped>\n",
              "    .dataframe tbody tr th:only-of-type {\n",
              "        vertical-align: middle;\n",
              "    }\n",
              "\n",
              "    .dataframe tbody tr th {\n",
              "        vertical-align: top;\n",
              "    }\n",
              "\n",
              "    .dataframe thead th {\n",
              "        text-align: right;\n",
              "    }\n",
              "</style>\n",
              "<table border=\"1\" class=\"dataframe\">\n",
              "  <thead>\n",
              "    <tr style=\"text-align: right;\">\n",
              "      <th></th>\n",
              "      <th>state</th>\n",
              "      <th>year</th>\n",
              "      <th>pop</th>\n",
              "    </tr>\n",
              "  </thead>\n",
              "  <tbody>\n",
              "    <tr>\n",
              "      <th>0</th>\n",
              "      <td>Ohio</td>\n",
              "      <td>2000</td>\n",
              "      <td>1.5</td>\n",
              "    </tr>\n",
              "    <tr>\n",
              "      <th>1</th>\n",
              "      <td>Ohio</td>\n",
              "      <td>2001</td>\n",
              "      <td>1.7</td>\n",
              "    </tr>\n",
              "    <tr>\n",
              "      <th>2</th>\n",
              "      <td>Ohio</td>\n",
              "      <td>2002</td>\n",
              "      <td>3.6</td>\n",
              "    </tr>\n",
              "    <tr>\n",
              "      <th>3</th>\n",
              "      <td>Nevada</td>\n",
              "      <td>2001</td>\n",
              "      <td>2.4</td>\n",
              "    </tr>\n",
              "    <tr>\n",
              "      <th>4</th>\n",
              "      <td>Nevada</td>\n",
              "      <td>2002</td>\n",
              "      <td>2.9</td>\n",
              "    </tr>\n",
              "    <tr>\n",
              "      <th>5</th>\n",
              "      <td>Nevada</td>\n",
              "      <td>2003</td>\n",
              "      <td>3.2</td>\n",
              "    </tr>\n",
              "  </tbody>\n",
              "</table>\n",
              "</div>"
            ],
            "text/plain": [
              "    state  year  pop\n",
              "0    Ohio  2000  1.5\n",
              "1    Ohio  2001  1.7\n",
              "2    Ohio  2002  3.6\n",
              "3  Nevada  2001  2.4\n",
              "4  Nevada  2002  2.9\n",
              "5  Nevada  2003  3.2"
            ]
          },
          "metadata": {
            "tags": []
          },
          "execution_count": 21
        }
      ]
    },
    {
      "cell_type": "code",
      "metadata": {
        "id": "r53Ea4lPSFRH",
        "colab": {
          "base_uri": "https://localhost:8080/",
          "height": 235
        },
        "outputId": "bedbcc40-37a4-4300-fd1a-d1b07bf2610e"
      },
      "source": [
        "pd.DataFrame(data, columns=['year', 'state', 'pop'])"
      ],
      "execution_count": null,
      "outputs": [
        {
          "output_type": "execute_result",
          "data": {
            "text/html": [
              "<div>\n",
              "<style scoped>\n",
              "    .dataframe tbody tr th:only-of-type {\n",
              "        vertical-align: middle;\n",
              "    }\n",
              "\n",
              "    .dataframe tbody tr th {\n",
              "        vertical-align: top;\n",
              "    }\n",
              "\n",
              "    .dataframe thead th {\n",
              "        text-align: right;\n",
              "    }\n",
              "</style>\n",
              "<table border=\"1\" class=\"dataframe\">\n",
              "  <thead>\n",
              "    <tr style=\"text-align: right;\">\n",
              "      <th></th>\n",
              "      <th>year</th>\n",
              "      <th>state</th>\n",
              "      <th>pop</th>\n",
              "    </tr>\n",
              "  </thead>\n",
              "  <tbody>\n",
              "    <tr>\n",
              "      <th>0</th>\n",
              "      <td>2000</td>\n",
              "      <td>Ohio</td>\n",
              "      <td>1.5</td>\n",
              "    </tr>\n",
              "    <tr>\n",
              "      <th>1</th>\n",
              "      <td>2001</td>\n",
              "      <td>Ohio</td>\n",
              "      <td>1.7</td>\n",
              "    </tr>\n",
              "    <tr>\n",
              "      <th>2</th>\n",
              "      <td>2002</td>\n",
              "      <td>Ohio</td>\n",
              "      <td>3.6</td>\n",
              "    </tr>\n",
              "    <tr>\n",
              "      <th>3</th>\n",
              "      <td>2001</td>\n",
              "      <td>Nevada</td>\n",
              "      <td>2.4</td>\n",
              "    </tr>\n",
              "    <tr>\n",
              "      <th>4</th>\n",
              "      <td>2002</td>\n",
              "      <td>Nevada</td>\n",
              "      <td>2.9</td>\n",
              "    </tr>\n",
              "    <tr>\n",
              "      <th>5</th>\n",
              "      <td>2003</td>\n",
              "      <td>Nevada</td>\n",
              "      <td>3.2</td>\n",
              "    </tr>\n",
              "  </tbody>\n",
              "</table>\n",
              "</div>"
            ],
            "text/plain": [
              "   year   state  pop\n",
              "0  2000    Ohio  1.5\n",
              "1  2001    Ohio  1.7\n",
              "2  2002    Ohio  3.6\n",
              "3  2001  Nevada  2.4\n",
              "4  2002  Nevada  2.9\n",
              "5  2003  Nevada  3.2"
            ]
          },
          "metadata": {
            "tags": []
          },
          "execution_count": 22
        }
      ]
    },
    {
      "cell_type": "code",
      "metadata": {
        "id": "ZoRK07l4SjDb"
      },
      "source": [
        "frame2 = pd.DataFrame(data, columns=['year', 'state', 'pop', 'debt'],\n",
        "index=['one', 'two', 'three', 'four', 'five', 'six'])"
      ],
      "execution_count": null,
      "outputs": []
    },
    {
      "cell_type": "code",
      "metadata": {
        "id": "f4-8Tk_jSoIa",
        "colab": {
          "base_uri": "https://localhost:8080/",
          "height": 235
        },
        "outputId": "6e82c666-8769-434a-a617-8bbdc8d14ad3"
      },
      "source": [
        "frame2"
      ],
      "execution_count": null,
      "outputs": [
        {
          "output_type": "execute_result",
          "data": {
            "text/html": [
              "<div>\n",
              "<style scoped>\n",
              "    .dataframe tbody tr th:only-of-type {\n",
              "        vertical-align: middle;\n",
              "    }\n",
              "\n",
              "    .dataframe tbody tr th {\n",
              "        vertical-align: top;\n",
              "    }\n",
              "\n",
              "    .dataframe thead th {\n",
              "        text-align: right;\n",
              "    }\n",
              "</style>\n",
              "<table border=\"1\" class=\"dataframe\">\n",
              "  <thead>\n",
              "    <tr style=\"text-align: right;\">\n",
              "      <th></th>\n",
              "      <th>year</th>\n",
              "      <th>state</th>\n",
              "      <th>pop</th>\n",
              "      <th>debt</th>\n",
              "    </tr>\n",
              "  </thead>\n",
              "  <tbody>\n",
              "    <tr>\n",
              "      <th>one</th>\n",
              "      <td>2000</td>\n",
              "      <td>Ohio</td>\n",
              "      <td>1.5</td>\n",
              "      <td>NaN</td>\n",
              "    </tr>\n",
              "    <tr>\n",
              "      <th>two</th>\n",
              "      <td>2001</td>\n",
              "      <td>Ohio</td>\n",
              "      <td>1.7</td>\n",
              "      <td>NaN</td>\n",
              "    </tr>\n",
              "    <tr>\n",
              "      <th>three</th>\n",
              "      <td>2002</td>\n",
              "      <td>Ohio</td>\n",
              "      <td>3.6</td>\n",
              "      <td>NaN</td>\n",
              "    </tr>\n",
              "    <tr>\n",
              "      <th>four</th>\n",
              "      <td>2001</td>\n",
              "      <td>Nevada</td>\n",
              "      <td>2.4</td>\n",
              "      <td>NaN</td>\n",
              "    </tr>\n",
              "    <tr>\n",
              "      <th>five</th>\n",
              "      <td>2002</td>\n",
              "      <td>Nevada</td>\n",
              "      <td>2.9</td>\n",
              "      <td>NaN</td>\n",
              "    </tr>\n",
              "    <tr>\n",
              "      <th>six</th>\n",
              "      <td>2003</td>\n",
              "      <td>Nevada</td>\n",
              "      <td>3.2</td>\n",
              "      <td>NaN</td>\n",
              "    </tr>\n",
              "  </tbody>\n",
              "</table>\n",
              "</div>"
            ],
            "text/plain": [
              "       year   state  pop debt\n",
              "one    2000    Ohio  1.5  NaN\n",
              "two    2001    Ohio  1.7  NaN\n",
              "three  2002    Ohio  3.6  NaN\n",
              "four   2001  Nevada  2.4  NaN\n",
              "five   2002  Nevada  2.9  NaN\n",
              "six    2003  Nevada  3.2  NaN"
            ]
          },
          "metadata": {
            "tags": []
          },
          "execution_count": 24
        }
      ]
    },
    {
      "cell_type": "code",
      "metadata": {
        "id": "3_mfy1aRSySb",
        "colab": {
          "base_uri": "https://localhost:8080/",
          "height": 136
        },
        "outputId": "251dc656-71c3-4206-e683-f944a419b1ae"
      },
      "source": [
        "frame2.state"
      ],
      "execution_count": null,
      "outputs": [
        {
          "output_type": "execute_result",
          "data": {
            "text/plain": [
              "one        Ohio\n",
              "two        Ohio\n",
              "three      Ohio\n",
              "four     Nevada\n",
              "five     Nevada\n",
              "six      Nevada\n",
              "Name: state, dtype: object"
            ]
          },
          "metadata": {
            "tags": []
          },
          "execution_count": 28
        }
      ]
    },
    {
      "cell_type": "code",
      "metadata": {
        "id": "UOf3FbnwTpCz",
        "colab": {
          "base_uri": "https://localhost:8080/",
          "height": 136
        },
        "outputId": "daa49af8-685e-4d2d-f824-55bd028fd74e"
      },
      "source": [
        "frame2['state']"
      ],
      "execution_count": null,
      "outputs": [
        {
          "output_type": "execute_result",
          "data": {
            "text/plain": [
              "one        Ohio\n",
              "two        Ohio\n",
              "three      Ohio\n",
              "four     Nevada\n",
              "five     Nevada\n",
              "six      Nevada\n",
              "Name: state, dtype: object"
            ]
          },
          "metadata": {
            "tags": []
          },
          "execution_count": 29
        }
      ]
    },
    {
      "cell_type": "code",
      "metadata": {
        "id": "fy5ai1chTr3N",
        "colab": {
          "base_uri": "https://localhost:8080/",
          "height": 102
        },
        "outputId": "1aaa3ae5-8043-4927-c313-4859ae9541d4"
      },
      "source": [
        "frame2.loc['three']"
      ],
      "execution_count": null,
      "outputs": [
        {
          "output_type": "execute_result",
          "data": {
            "text/plain": [
              "year     2002\n",
              "state    Ohio\n",
              "pop       3.6\n",
              "debt      NaN\n",
              "Name: three, dtype: object"
            ]
          },
          "metadata": {
            "tags": []
          },
          "execution_count": 31
        }
      ]
    },
    {
      "cell_type": "code",
      "metadata": {
        "id": "ck2IvE7XTr0C",
        "colab": {
          "base_uri": "https://localhost:8080/",
          "height": 235
        },
        "outputId": "a260042e-ae29-4b6f-a15c-ab866e65f4dc"
      },
      "source": [
        "frame2['debt'] = 16.5\n",
        "frame2"
      ],
      "execution_count": null,
      "outputs": [
        {
          "output_type": "execute_result",
          "data": {
            "text/html": [
              "<div>\n",
              "<style scoped>\n",
              "    .dataframe tbody tr th:only-of-type {\n",
              "        vertical-align: middle;\n",
              "    }\n",
              "\n",
              "    .dataframe tbody tr th {\n",
              "        vertical-align: top;\n",
              "    }\n",
              "\n",
              "    .dataframe thead th {\n",
              "        text-align: right;\n",
              "    }\n",
              "</style>\n",
              "<table border=\"1\" class=\"dataframe\">\n",
              "  <thead>\n",
              "    <tr style=\"text-align: right;\">\n",
              "      <th></th>\n",
              "      <th>year</th>\n",
              "      <th>state</th>\n",
              "      <th>pop</th>\n",
              "      <th>debt</th>\n",
              "    </tr>\n",
              "  </thead>\n",
              "  <tbody>\n",
              "    <tr>\n",
              "      <th>one</th>\n",
              "      <td>2000</td>\n",
              "      <td>Ohio</td>\n",
              "      <td>1.5</td>\n",
              "      <td>16.5</td>\n",
              "    </tr>\n",
              "    <tr>\n",
              "      <th>two</th>\n",
              "      <td>2001</td>\n",
              "      <td>Ohio</td>\n",
              "      <td>1.7</td>\n",
              "      <td>16.5</td>\n",
              "    </tr>\n",
              "    <tr>\n",
              "      <th>three</th>\n",
              "      <td>2002</td>\n",
              "      <td>Ohio</td>\n",
              "      <td>3.6</td>\n",
              "      <td>16.5</td>\n",
              "    </tr>\n",
              "    <tr>\n",
              "      <th>four</th>\n",
              "      <td>2001</td>\n",
              "      <td>Nevada</td>\n",
              "      <td>2.4</td>\n",
              "      <td>16.5</td>\n",
              "    </tr>\n",
              "    <tr>\n",
              "      <th>five</th>\n",
              "      <td>2002</td>\n",
              "      <td>Nevada</td>\n",
              "      <td>2.9</td>\n",
              "      <td>16.5</td>\n",
              "    </tr>\n",
              "    <tr>\n",
              "      <th>six</th>\n",
              "      <td>2003</td>\n",
              "      <td>Nevada</td>\n",
              "      <td>3.2</td>\n",
              "      <td>16.5</td>\n",
              "    </tr>\n",
              "  </tbody>\n",
              "</table>\n",
              "</div>"
            ],
            "text/plain": [
              "       year   state  pop  debt\n",
              "one    2000    Ohio  1.5  16.5\n",
              "two    2001    Ohio  1.7  16.5\n",
              "three  2002    Ohio  3.6  16.5\n",
              "four   2001  Nevada  2.4  16.5\n",
              "five   2002  Nevada  2.9  16.5\n",
              "six    2003  Nevada  3.2  16.5"
            ]
          },
          "metadata": {
            "tags": []
          },
          "execution_count": 33
        }
      ]
    },
    {
      "cell_type": "code",
      "metadata": {
        "id": "QGmPOToRUHDt"
      },
      "source": [
        "data = pd.DataFrame(np.arange(16).reshape((4, 4)),\n",
        "index=['Ohio', 'Colorado', 'Utah', 'New York'],\n",
        "columns=['one', 'two', 'three', 'four'])"
      ],
      "execution_count": null,
      "outputs": []
    },
    {
      "cell_type": "code",
      "metadata": {
        "id": "tgdWWofZUHBR",
        "colab": {
          "base_uri": "https://localhost:8080/",
          "height": 173
        },
        "outputId": "0a4ef46e-1a91-4b2b-e53a-852253dbe33e"
      },
      "source": [
        "data"
      ],
      "execution_count": null,
      "outputs": [
        {
          "output_type": "execute_result",
          "data": {
            "text/html": [
              "<div>\n",
              "<style scoped>\n",
              "    .dataframe tbody tr th:only-of-type {\n",
              "        vertical-align: middle;\n",
              "    }\n",
              "\n",
              "    .dataframe tbody tr th {\n",
              "        vertical-align: top;\n",
              "    }\n",
              "\n",
              "    .dataframe thead th {\n",
              "        text-align: right;\n",
              "    }\n",
              "</style>\n",
              "<table border=\"1\" class=\"dataframe\">\n",
              "  <thead>\n",
              "    <tr style=\"text-align: right;\">\n",
              "      <th></th>\n",
              "      <th>one</th>\n",
              "      <th>two</th>\n",
              "      <th>three</th>\n",
              "      <th>four</th>\n",
              "    </tr>\n",
              "  </thead>\n",
              "  <tbody>\n",
              "    <tr>\n",
              "      <th>Ohio</th>\n",
              "      <td>0</td>\n",
              "      <td>1</td>\n",
              "      <td>2</td>\n",
              "      <td>3</td>\n",
              "    </tr>\n",
              "    <tr>\n",
              "      <th>Colorado</th>\n",
              "      <td>4</td>\n",
              "      <td>5</td>\n",
              "      <td>6</td>\n",
              "      <td>7</td>\n",
              "    </tr>\n",
              "    <tr>\n",
              "      <th>Utah</th>\n",
              "      <td>8</td>\n",
              "      <td>9</td>\n",
              "      <td>10</td>\n",
              "      <td>11</td>\n",
              "    </tr>\n",
              "    <tr>\n",
              "      <th>New York</th>\n",
              "      <td>12</td>\n",
              "      <td>13</td>\n",
              "      <td>14</td>\n",
              "      <td>15</td>\n",
              "    </tr>\n",
              "  </tbody>\n",
              "</table>\n",
              "</div>"
            ],
            "text/plain": [
              "          one  two  three  four\n",
              "Ohio        0    1      2     3\n",
              "Colorado    4    5      6     7\n",
              "Utah        8    9     10    11\n",
              "New York   12   13     14    15"
            ]
          },
          "metadata": {
            "tags": []
          },
          "execution_count": 37
        }
      ]
    },
    {
      "cell_type": "code",
      "metadata": {
        "id": "iJFM2pLrUG9u",
        "colab": {
          "base_uri": "https://localhost:8080/",
          "height": 173
        },
        "outputId": "6aa91b8b-f179-4ef9-b7ba-ee179e23d9e3"
      },
      "source": [
        "data.drop(['one', 'two'], axis = 'columns')"
      ],
      "execution_count": null,
      "outputs": [
        {
          "output_type": "execute_result",
          "data": {
            "text/html": [
              "<div>\n",
              "<style scoped>\n",
              "    .dataframe tbody tr th:only-of-type {\n",
              "        vertical-align: middle;\n",
              "    }\n",
              "\n",
              "    .dataframe tbody tr th {\n",
              "        vertical-align: top;\n",
              "    }\n",
              "\n",
              "    .dataframe thead th {\n",
              "        text-align: right;\n",
              "    }\n",
              "</style>\n",
              "<table border=\"1\" class=\"dataframe\">\n",
              "  <thead>\n",
              "    <tr style=\"text-align: right;\">\n",
              "      <th></th>\n",
              "      <th>three</th>\n",
              "      <th>four</th>\n",
              "    </tr>\n",
              "  </thead>\n",
              "  <tbody>\n",
              "    <tr>\n",
              "      <th>Ohio</th>\n",
              "      <td>2</td>\n",
              "      <td>3</td>\n",
              "    </tr>\n",
              "    <tr>\n",
              "      <th>Colorado</th>\n",
              "      <td>6</td>\n",
              "      <td>7</td>\n",
              "    </tr>\n",
              "    <tr>\n",
              "      <th>Utah</th>\n",
              "      <td>10</td>\n",
              "      <td>11</td>\n",
              "    </tr>\n",
              "    <tr>\n",
              "      <th>New York</th>\n",
              "      <td>14</td>\n",
              "      <td>15</td>\n",
              "    </tr>\n",
              "  </tbody>\n",
              "</table>\n",
              "</div>"
            ],
            "text/plain": [
              "          three  four\n",
              "Ohio          2     3\n",
              "Colorado      6     7\n",
              "Utah         10    11\n",
              "New York     14    15"
            ]
          },
          "metadata": {
            "tags": []
          },
          "execution_count": 38
        }
      ]
    },
    {
      "cell_type": "code",
      "metadata": {
        "id": "2vi_ImxMUG6o",
        "colab": {
          "base_uri": "https://localhost:8080/",
          "height": 111
        },
        "outputId": "9dd37f81-792a-4f3f-e8d7-b11e2c228c18"
      },
      "source": [
        "data.drop(['Ohio','Colorado'], axis = 'rows')"
      ],
      "execution_count": null,
      "outputs": [
        {
          "output_type": "execute_result",
          "data": {
            "text/html": [
              "<div>\n",
              "<style scoped>\n",
              "    .dataframe tbody tr th:only-of-type {\n",
              "        vertical-align: middle;\n",
              "    }\n",
              "\n",
              "    .dataframe tbody tr th {\n",
              "        vertical-align: top;\n",
              "    }\n",
              "\n",
              "    .dataframe thead th {\n",
              "        text-align: right;\n",
              "    }\n",
              "</style>\n",
              "<table border=\"1\" class=\"dataframe\">\n",
              "  <thead>\n",
              "    <tr style=\"text-align: right;\">\n",
              "      <th></th>\n",
              "      <th>one</th>\n",
              "      <th>two</th>\n",
              "      <th>three</th>\n",
              "      <th>four</th>\n",
              "    </tr>\n",
              "  </thead>\n",
              "  <tbody>\n",
              "    <tr>\n",
              "      <th>Utah</th>\n",
              "      <td>8</td>\n",
              "      <td>9</td>\n",
              "      <td>10</td>\n",
              "      <td>11</td>\n",
              "    </tr>\n",
              "    <tr>\n",
              "      <th>New York</th>\n",
              "      <td>12</td>\n",
              "      <td>13</td>\n",
              "      <td>14</td>\n",
              "      <td>15</td>\n",
              "    </tr>\n",
              "  </tbody>\n",
              "</table>\n",
              "</div>"
            ],
            "text/plain": [
              "          one  two  three  four\n",
              "Utah        8    9     10    11\n",
              "New York   12   13     14    15"
            ]
          },
          "metadata": {
            "tags": []
          },
          "execution_count": 39
        }
      ]
    },
    {
      "cell_type": "markdown",
      "metadata": {
        "id": "5dSXFG5z9HjB"
      },
      "source": [
        "## Happiness score data"
      ]
    },
    {
      "cell_type": "code",
      "metadata": {
        "id": "AlvhDkio9MKp"
      },
      "source": [
        "import pandas as pd\r\n",
        "import numpy as np"
      ],
      "execution_count": 3,
      "outputs": []
    },
    {
      "cell_type": "code",
      "metadata": {
        "id": "LiG4FnrR9kEO"
      },
      "source": [
        "df = pd.read_csv('2019.csv')"
      ],
      "execution_count": 4,
      "outputs": []
    },
    {
      "cell_type": "code",
      "metadata": {
        "id": "eZmBFEMC9n63",
        "colab": {
          "base_uri": "https://localhost:8080/",
          "height": 204
        },
        "outputId": "e0c73bd4-bf78-4ece-f320-cbdd9dc8fb6c"
      },
      "source": [
        "df.head()"
      ],
      "execution_count": 5,
      "outputs": [
        {
          "output_type": "execute_result",
          "data": {
            "text/html": [
              "<div>\n",
              "<style scoped>\n",
              "    .dataframe tbody tr th:only-of-type {\n",
              "        vertical-align: middle;\n",
              "    }\n",
              "\n",
              "    .dataframe tbody tr th {\n",
              "        vertical-align: top;\n",
              "    }\n",
              "\n",
              "    .dataframe thead th {\n",
              "        text-align: right;\n",
              "    }\n",
              "</style>\n",
              "<table border=\"1\" class=\"dataframe\">\n",
              "  <thead>\n",
              "    <tr style=\"text-align: right;\">\n",
              "      <th></th>\n",
              "      <th>Overall rank</th>\n",
              "      <th>Country or region</th>\n",
              "      <th>Score</th>\n",
              "      <th>GDP per capita</th>\n",
              "      <th>Social support</th>\n",
              "      <th>Healthy life expectancy</th>\n",
              "      <th>Freedom to make life choices</th>\n",
              "      <th>Generosity</th>\n",
              "      <th>Perceptions of corruption</th>\n",
              "    </tr>\n",
              "  </thead>\n",
              "  <tbody>\n",
              "    <tr>\n",
              "      <th>0</th>\n",
              "      <td>1</td>\n",
              "      <td>Finland</td>\n",
              "      <td>7.769</td>\n",
              "      <td>1.340</td>\n",
              "      <td>1.587</td>\n",
              "      <td>0.986</td>\n",
              "      <td>0.596</td>\n",
              "      <td>0.153</td>\n",
              "      <td>0.393</td>\n",
              "    </tr>\n",
              "    <tr>\n",
              "      <th>1</th>\n",
              "      <td>2</td>\n",
              "      <td>Denmark</td>\n",
              "      <td>7.600</td>\n",
              "      <td>1.383</td>\n",
              "      <td>1.573</td>\n",
              "      <td>0.996</td>\n",
              "      <td>0.592</td>\n",
              "      <td>0.252</td>\n",
              "      <td>0.410</td>\n",
              "    </tr>\n",
              "    <tr>\n",
              "      <th>2</th>\n",
              "      <td>3</td>\n",
              "      <td>Norway</td>\n",
              "      <td>7.554</td>\n",
              "      <td>1.488</td>\n",
              "      <td>1.582</td>\n",
              "      <td>1.028</td>\n",
              "      <td>0.603</td>\n",
              "      <td>0.271</td>\n",
              "      <td>0.341</td>\n",
              "    </tr>\n",
              "    <tr>\n",
              "      <th>3</th>\n",
              "      <td>4</td>\n",
              "      <td>Iceland</td>\n",
              "      <td>7.494</td>\n",
              "      <td>1.380</td>\n",
              "      <td>1.624</td>\n",
              "      <td>1.026</td>\n",
              "      <td>0.591</td>\n",
              "      <td>0.354</td>\n",
              "      <td>0.118</td>\n",
              "    </tr>\n",
              "    <tr>\n",
              "      <th>4</th>\n",
              "      <td>5</td>\n",
              "      <td>Netherlands</td>\n",
              "      <td>7.488</td>\n",
              "      <td>1.396</td>\n",
              "      <td>1.522</td>\n",
              "      <td>0.999</td>\n",
              "      <td>0.557</td>\n",
              "      <td>0.322</td>\n",
              "      <td>0.298</td>\n",
              "    </tr>\n",
              "  </tbody>\n",
              "</table>\n",
              "</div>"
            ],
            "text/plain": [
              "   Overall rank Country or region  ...  Generosity  Perceptions of corruption\n",
              "0             1           Finland  ...       0.153                      0.393\n",
              "1             2           Denmark  ...       0.252                      0.410\n",
              "2             3            Norway  ...       0.271                      0.341\n",
              "3             4           Iceland  ...       0.354                      0.118\n",
              "4             5       Netherlands  ...       0.322                      0.298\n",
              "\n",
              "[5 rows x 9 columns]"
            ]
          },
          "metadata": {
            "tags": []
          },
          "execution_count": 5
        }
      ]
    },
    {
      "cell_type": "code",
      "metadata": {
        "id": "75pMxYlaA4UQ",
        "colab": {
          "base_uri": "https://localhost:8080/",
          "height": 297
        },
        "outputId": "4bfadff6-9051-49cc-9f90-66fd8dd5cd0f"
      },
      "source": [
        "df.describe()"
      ],
      "execution_count": 6,
      "outputs": [
        {
          "output_type": "execute_result",
          "data": {
            "text/html": [
              "<div>\n",
              "<style scoped>\n",
              "    .dataframe tbody tr th:only-of-type {\n",
              "        vertical-align: middle;\n",
              "    }\n",
              "\n",
              "    .dataframe tbody tr th {\n",
              "        vertical-align: top;\n",
              "    }\n",
              "\n",
              "    .dataframe thead th {\n",
              "        text-align: right;\n",
              "    }\n",
              "</style>\n",
              "<table border=\"1\" class=\"dataframe\">\n",
              "  <thead>\n",
              "    <tr style=\"text-align: right;\">\n",
              "      <th></th>\n",
              "      <th>Overall rank</th>\n",
              "      <th>Score</th>\n",
              "      <th>GDP per capita</th>\n",
              "      <th>Social support</th>\n",
              "      <th>Healthy life expectancy</th>\n",
              "      <th>Freedom to make life choices</th>\n",
              "      <th>Generosity</th>\n",
              "      <th>Perceptions of corruption</th>\n",
              "    </tr>\n",
              "  </thead>\n",
              "  <tbody>\n",
              "    <tr>\n",
              "      <th>count</th>\n",
              "      <td>156.000000</td>\n",
              "      <td>156.000000</td>\n",
              "      <td>156.000000</td>\n",
              "      <td>156.000000</td>\n",
              "      <td>156.000000</td>\n",
              "      <td>156.000000</td>\n",
              "      <td>156.000000</td>\n",
              "      <td>156.000000</td>\n",
              "    </tr>\n",
              "    <tr>\n",
              "      <th>mean</th>\n",
              "      <td>78.500000</td>\n",
              "      <td>5.407096</td>\n",
              "      <td>0.905147</td>\n",
              "      <td>1.208814</td>\n",
              "      <td>0.725244</td>\n",
              "      <td>0.392571</td>\n",
              "      <td>0.184846</td>\n",
              "      <td>0.110603</td>\n",
              "    </tr>\n",
              "    <tr>\n",
              "      <th>std</th>\n",
              "      <td>45.177428</td>\n",
              "      <td>1.113120</td>\n",
              "      <td>0.398389</td>\n",
              "      <td>0.299191</td>\n",
              "      <td>0.242124</td>\n",
              "      <td>0.143289</td>\n",
              "      <td>0.095254</td>\n",
              "      <td>0.094538</td>\n",
              "    </tr>\n",
              "    <tr>\n",
              "      <th>min</th>\n",
              "      <td>1.000000</td>\n",
              "      <td>2.853000</td>\n",
              "      <td>0.000000</td>\n",
              "      <td>0.000000</td>\n",
              "      <td>0.000000</td>\n",
              "      <td>0.000000</td>\n",
              "      <td>0.000000</td>\n",
              "      <td>0.000000</td>\n",
              "    </tr>\n",
              "    <tr>\n",
              "      <th>25%</th>\n",
              "      <td>39.750000</td>\n",
              "      <td>4.544500</td>\n",
              "      <td>0.602750</td>\n",
              "      <td>1.055750</td>\n",
              "      <td>0.547750</td>\n",
              "      <td>0.308000</td>\n",
              "      <td>0.108750</td>\n",
              "      <td>0.047000</td>\n",
              "    </tr>\n",
              "    <tr>\n",
              "      <th>50%</th>\n",
              "      <td>78.500000</td>\n",
              "      <td>5.379500</td>\n",
              "      <td>0.960000</td>\n",
              "      <td>1.271500</td>\n",
              "      <td>0.789000</td>\n",
              "      <td>0.417000</td>\n",
              "      <td>0.177500</td>\n",
              "      <td>0.085500</td>\n",
              "    </tr>\n",
              "    <tr>\n",
              "      <th>75%</th>\n",
              "      <td>117.250000</td>\n",
              "      <td>6.184500</td>\n",
              "      <td>1.232500</td>\n",
              "      <td>1.452500</td>\n",
              "      <td>0.881750</td>\n",
              "      <td>0.507250</td>\n",
              "      <td>0.248250</td>\n",
              "      <td>0.141250</td>\n",
              "    </tr>\n",
              "    <tr>\n",
              "      <th>max</th>\n",
              "      <td>156.000000</td>\n",
              "      <td>7.769000</td>\n",
              "      <td>1.684000</td>\n",
              "      <td>1.624000</td>\n",
              "      <td>1.141000</td>\n",
              "      <td>0.631000</td>\n",
              "      <td>0.566000</td>\n",
              "      <td>0.453000</td>\n",
              "    </tr>\n",
              "  </tbody>\n",
              "</table>\n",
              "</div>"
            ],
            "text/plain": [
              "       Overall rank       Score  ...  Generosity  Perceptions of corruption\n",
              "count    156.000000  156.000000  ...  156.000000                 156.000000\n",
              "mean      78.500000    5.407096  ...    0.184846                   0.110603\n",
              "std       45.177428    1.113120  ...    0.095254                   0.094538\n",
              "min        1.000000    2.853000  ...    0.000000                   0.000000\n",
              "25%       39.750000    4.544500  ...    0.108750                   0.047000\n",
              "50%       78.500000    5.379500  ...    0.177500                   0.085500\n",
              "75%      117.250000    6.184500  ...    0.248250                   0.141250\n",
              "max      156.000000    7.769000  ...    0.566000                   0.453000\n",
              "\n",
              "[8 rows x 8 columns]"
            ]
          },
          "metadata": {
            "tags": []
          },
          "execution_count": 6
        }
      ]
    },
    {
      "cell_type": "code",
      "metadata": {
        "id": "gSkNjeI196YS",
        "colab": {
          "base_uri": "https://localhost:8080/"
        },
        "outputId": "9200fd79-0e30-4f22-9848-35c0a1865fbb"
      },
      "source": [
        "df[\"Country or region\"]"
      ],
      "execution_count": 7,
      "outputs": [
        {
          "output_type": "execute_result",
          "data": {
            "text/plain": [
              "0                       Finland\n",
              "1                       Denmark\n",
              "2                        Norway\n",
              "3                       Iceland\n",
              "4                   Netherlands\n",
              "                 ...           \n",
              "151                      Rwanda\n",
              "152                    Tanzania\n",
              "153                 Afghanistan\n",
              "154    Central African Republic\n",
              "155                 South Sudan\n",
              "Name: Country or region, Length: 156, dtype: object"
            ]
          },
          "metadata": {
            "tags": []
          },
          "execution_count": 7
        }
      ]
    },
    {
      "cell_type": "code",
      "metadata": {
        "id": "DCc0mmqG9-Lx",
        "colab": {
          "base_uri": "https://localhost:8080/"
        },
        "outputId": "9124b30a-97dc-464b-8fac-40b0461d39fd"
      },
      "source": [
        "df[\"Country or region\"][df[\"Score\"]>7]"
      ],
      "execution_count": 8,
      "outputs": [
        {
          "output_type": "execute_result",
          "data": {
            "text/plain": [
              "0            Finland\n",
              "1            Denmark\n",
              "2             Norway\n",
              "3            Iceland\n",
              "4        Netherlands\n",
              "5        Switzerland\n",
              "6             Sweden\n",
              "7        New Zealand\n",
              "8             Canada\n",
              "9            Austria\n",
              "10         Australia\n",
              "11        Costa Rica\n",
              "12            Israel\n",
              "13        Luxembourg\n",
              "14    United Kingdom\n",
              "15           Ireland\n",
              "Name: Country or region, dtype: object"
            ]
          },
          "metadata": {
            "tags": []
          },
          "execution_count": 8
        }
      ]
    },
    {
      "cell_type": "code",
      "metadata": {
        "id": "W_n55Ha_-Olx",
        "colab": {
          "base_uri": "https://localhost:8080/"
        },
        "outputId": "e3cff474-78fd-4b0e-8b5d-fcf6e5f715dc"
      },
      "source": [
        "df[\"Country or region\"][df[\"GDP per capita\"]>1.4]"
      ],
      "execution_count": 9,
      "outputs": [
        {
          "output_type": "execute_result",
          "data": {
            "text/plain": [
              "2                   Norway\n",
              "5              Switzerland\n",
              "13              Luxembourg\n",
              "15                 Ireland\n",
              "18           United States\n",
              "20    United Arab Emirates\n",
              "27            Saudi Arabia\n",
              "28                   Qatar\n",
              "33               Singapore\n",
              "50                  Kuwait\n",
              "75               Hong Kong\n",
              "Name: Country or region, dtype: object"
            ]
          },
          "metadata": {
            "tags": []
          },
          "execution_count": 9
        }
      ]
    },
    {
      "cell_type": "code",
      "metadata": {
        "id": "WDaa23Ao-fo3",
        "colab": {
          "base_uri": "https://localhost:8080/"
        },
        "outputId": "a7d460c3-1f40-46ce-8956-16838032443f"
      },
      "source": [
        "df[\"Country or region\"][ (df[\"GDP per capita\"]>1.4) &  (df[\"Score\"]>7)]"
      ],
      "execution_count": 10,
      "outputs": [
        {
          "output_type": "execute_result",
          "data": {
            "text/plain": [
              "2          Norway\n",
              "5     Switzerland\n",
              "13     Luxembourg\n",
              "15        Ireland\n",
              "Name: Country or region, dtype: object"
            ]
          },
          "metadata": {
            "tags": []
          },
          "execution_count": 10
        }
      ]
    },
    {
      "cell_type": "code",
      "metadata": {
        "id": "0s7eqkBD-4xp",
        "colab": {
          "base_uri": "https://localhost:8080/"
        },
        "outputId": "6eb08a5c-47f5-42e5-a945-3c23778dfb1d"
      },
      "source": [
        "df[\"Country or region\"][ (df[\"GDP per capita\"]>1.4)  |  (df[\"Score\"]>7)]"
      ],
      "execution_count": 11,
      "outputs": [
        {
          "output_type": "execute_result",
          "data": {
            "text/plain": [
              "0                  Finland\n",
              "1                  Denmark\n",
              "2                   Norway\n",
              "3                  Iceland\n",
              "4              Netherlands\n",
              "5              Switzerland\n",
              "6                   Sweden\n",
              "7              New Zealand\n",
              "8                   Canada\n",
              "9                  Austria\n",
              "10               Australia\n",
              "11              Costa Rica\n",
              "12                  Israel\n",
              "13              Luxembourg\n",
              "14          United Kingdom\n",
              "15                 Ireland\n",
              "18           United States\n",
              "20    United Arab Emirates\n",
              "27            Saudi Arabia\n",
              "28                   Qatar\n",
              "33               Singapore\n",
              "50                  Kuwait\n",
              "75               Hong Kong\n",
              "Name: Country or region, dtype: object"
            ]
          },
          "metadata": {
            "tags": []
          },
          "execution_count": 11
        }
      ]
    },
    {
      "cell_type": "code",
      "metadata": {
        "id": "dPwJg0cFBP4X",
        "colab": {
          "base_uri": "https://localhost:8080/"
        },
        "outputId": "80db1e25-dff5-4209-848e-453024fdc743"
      },
      "source": [
        "df['Country or region'][(df[\"Score\"]>6)& (df['Score']<=7)]"
      ],
      "execution_count": 12,
      "outputs": [
        {
          "output_type": "execute_result",
          "data": {
            "text/plain": [
              "16                 Germany\n",
              "17                 Belgium\n",
              "18           United States\n",
              "19          Czech Republic\n",
              "20    United Arab Emirates\n",
              "21                   Malta\n",
              "22                  Mexico\n",
              "23                  France\n",
              "24                  Taiwan\n",
              "25                   Chile\n",
              "26               Guatemala\n",
              "27            Saudi Arabia\n",
              "28                   Qatar\n",
              "29                   Spain\n",
              "30                  Panama\n",
              "31                  Brazil\n",
              "32                 Uruguay\n",
              "33               Singapore\n",
              "34             El Salvador\n",
              "35                   Italy\n",
              "36                 Bahrain\n",
              "37                Slovakia\n",
              "38       Trinidad & Tobago\n",
              "39                  Poland\n",
              "40              Uzbekistan\n",
              "41               Lithuania\n",
              "42                Colombia\n",
              "43                Slovenia\n",
              "44               Nicaragua\n",
              "45                  Kosovo\n",
              "46               Argentina\n",
              "47                 Romania\n",
              "48                  Cyprus\n",
              "49                 Ecuador\n",
              "50                  Kuwait\n",
              "51                Thailand\n",
              "Name: Country or region, dtype: object"
            ]
          },
          "metadata": {
            "tags": []
          },
          "execution_count": 12
        }
      ]
    },
    {
      "cell_type": "code",
      "metadata": {
        "id": "7VviUj9p_nMU"
      },
      "source": [
        "df['Status'] = pd.cut(df['Score'], bins=[0, 6,7, 10], labels=['sad', 'happy', 'extremly happy'])"
      ],
      "execution_count": 13,
      "outputs": []
    },
    {
      "cell_type": "code",
      "metadata": {
        "id": "nmO0DeN9ABgI",
        "colab": {
          "base_uri": "https://localhost:8080/",
          "height": 204
        },
        "outputId": "405e8aec-9645-46b6-bf3a-c738f647cfcb"
      },
      "source": [
        "df.head()"
      ],
      "execution_count": null,
      "outputs": [
        {
          "output_type": "execute_result",
          "data": {
            "text/html": [
              "<div>\n",
              "<style scoped>\n",
              "    .dataframe tbody tr th:only-of-type {\n",
              "        vertical-align: middle;\n",
              "    }\n",
              "\n",
              "    .dataframe tbody tr th {\n",
              "        vertical-align: top;\n",
              "    }\n",
              "\n",
              "    .dataframe thead th {\n",
              "        text-align: right;\n",
              "    }\n",
              "</style>\n",
              "<table border=\"1\" class=\"dataframe\">\n",
              "  <thead>\n",
              "    <tr style=\"text-align: right;\">\n",
              "      <th></th>\n",
              "      <th>Overall rank</th>\n",
              "      <th>Country or region</th>\n",
              "      <th>Score</th>\n",
              "      <th>GDP per capita</th>\n",
              "      <th>Social support</th>\n",
              "      <th>Healthy life expectancy</th>\n",
              "      <th>Freedom to make life choices</th>\n",
              "      <th>Generosity</th>\n",
              "      <th>Perceptions of corruption</th>\n",
              "      <th>Status</th>\n",
              "    </tr>\n",
              "  </thead>\n",
              "  <tbody>\n",
              "    <tr>\n",
              "      <th>0</th>\n",
              "      <td>1</td>\n",
              "      <td>Finland</td>\n",
              "      <td>7.769</td>\n",
              "      <td>1.340</td>\n",
              "      <td>1.587</td>\n",
              "      <td>0.986</td>\n",
              "      <td>0.596</td>\n",
              "      <td>0.153</td>\n",
              "      <td>0.393</td>\n",
              "      <td>extremly happy</td>\n",
              "    </tr>\n",
              "    <tr>\n",
              "      <th>1</th>\n",
              "      <td>2</td>\n",
              "      <td>Denmark</td>\n",
              "      <td>7.600</td>\n",
              "      <td>1.383</td>\n",
              "      <td>1.573</td>\n",
              "      <td>0.996</td>\n",
              "      <td>0.592</td>\n",
              "      <td>0.252</td>\n",
              "      <td>0.410</td>\n",
              "      <td>extremly happy</td>\n",
              "    </tr>\n",
              "    <tr>\n",
              "      <th>2</th>\n",
              "      <td>3</td>\n",
              "      <td>Norway</td>\n",
              "      <td>7.554</td>\n",
              "      <td>1.488</td>\n",
              "      <td>1.582</td>\n",
              "      <td>1.028</td>\n",
              "      <td>0.603</td>\n",
              "      <td>0.271</td>\n",
              "      <td>0.341</td>\n",
              "      <td>extremly happy</td>\n",
              "    </tr>\n",
              "    <tr>\n",
              "      <th>3</th>\n",
              "      <td>4</td>\n",
              "      <td>Iceland</td>\n",
              "      <td>7.494</td>\n",
              "      <td>1.380</td>\n",
              "      <td>1.624</td>\n",
              "      <td>1.026</td>\n",
              "      <td>0.591</td>\n",
              "      <td>0.354</td>\n",
              "      <td>0.118</td>\n",
              "      <td>extremly happy</td>\n",
              "    </tr>\n",
              "    <tr>\n",
              "      <th>4</th>\n",
              "      <td>5</td>\n",
              "      <td>Netherlands</td>\n",
              "      <td>7.488</td>\n",
              "      <td>1.396</td>\n",
              "      <td>1.522</td>\n",
              "      <td>0.999</td>\n",
              "      <td>0.557</td>\n",
              "      <td>0.322</td>\n",
              "      <td>0.298</td>\n",
              "      <td>extremly happy</td>\n",
              "    </tr>\n",
              "  </tbody>\n",
              "</table>\n",
              "</div>"
            ],
            "text/plain": [
              "   Overall rank Country or region  ...  Perceptions of corruption          Status\n",
              "0             1           Finland  ...                      0.393  extremly happy\n",
              "1             2           Denmark  ...                      0.410  extremly happy\n",
              "2             3            Norway  ...                      0.341  extremly happy\n",
              "3             4           Iceland  ...                      0.118  extremly happy\n",
              "4             5       Netherlands  ...                      0.298  extremly happy\n",
              "\n",
              "[5 rows x 10 columns]"
            ]
          },
          "metadata": {
            "tags": []
          },
          "execution_count": 16
        }
      ]
    },
    {
      "cell_type": "code",
      "metadata": {
        "id": "MJSA0G0IACkO",
        "colab": {
          "base_uri": "https://localhost:8080/"
        },
        "outputId": "bc690618-1f05-45a7-aa61-3d8818e28458"
      },
      "source": [
        "df['Country or region'][df['Status']=='happy']"
      ],
      "execution_count": null,
      "outputs": [
        {
          "output_type": "execute_result",
          "data": {
            "text/plain": [
              "16                 Germany\n",
              "17                 Belgium\n",
              "18           United States\n",
              "19          Czech Republic\n",
              "20    United Arab Emirates\n",
              "21                   Malta\n",
              "22                  Mexico\n",
              "23                  France\n",
              "24                  Taiwan\n",
              "25                   Chile\n",
              "26               Guatemala\n",
              "27            Saudi Arabia\n",
              "28                   Qatar\n",
              "29                   Spain\n",
              "30                  Panama\n",
              "31                  Brazil\n",
              "32                 Uruguay\n",
              "33               Singapore\n",
              "34             El Salvador\n",
              "35                   Italy\n",
              "36                 Bahrain\n",
              "37                Slovakia\n",
              "38       Trinidad & Tobago\n",
              "39                  Poland\n",
              "40              Uzbekistan\n",
              "41               Lithuania\n",
              "42                Colombia\n",
              "43                Slovenia\n",
              "44               Nicaragua\n",
              "45                  Kosovo\n",
              "46               Argentina\n",
              "47                 Romania\n",
              "48                  Cyprus\n",
              "49                 Ecuador\n",
              "50                  Kuwait\n",
              "51                Thailand\n",
              "Name: Country or region, dtype: object"
            ]
          },
          "metadata": {
            "tags": []
          },
          "execution_count": 21
        }
      ]
    },
    {
      "cell_type": "code",
      "metadata": {
        "id": "zitrSevqB_yi",
        "colab": {
          "base_uri": "https://localhost:8080/",
          "height": 1000
        },
        "outputId": "3489c2e2-1193-40ae-d022-941bbdfd2b4c"
      },
      "source": [
        "df[df['Status']=='happy']"
      ],
      "execution_count": null,
      "outputs": [
        {
          "output_type": "execute_result",
          "data": {
            "text/html": [
              "<div>\n",
              "<style scoped>\n",
              "    .dataframe tbody tr th:only-of-type {\n",
              "        vertical-align: middle;\n",
              "    }\n",
              "\n",
              "    .dataframe tbody tr th {\n",
              "        vertical-align: top;\n",
              "    }\n",
              "\n",
              "    .dataframe thead th {\n",
              "        text-align: right;\n",
              "    }\n",
              "</style>\n",
              "<table border=\"1\" class=\"dataframe\">\n",
              "  <thead>\n",
              "    <tr style=\"text-align: right;\">\n",
              "      <th></th>\n",
              "      <th>Overall rank</th>\n",
              "      <th>Country or region</th>\n",
              "      <th>Score</th>\n",
              "      <th>GDP per capita</th>\n",
              "      <th>Social support</th>\n",
              "      <th>Healthy life expectancy</th>\n",
              "      <th>Freedom to make life choices</th>\n",
              "      <th>Generosity</th>\n",
              "      <th>Perceptions of corruption</th>\n",
              "      <th>Status</th>\n",
              "    </tr>\n",
              "  </thead>\n",
              "  <tbody>\n",
              "    <tr>\n",
              "      <th>16</th>\n",
              "      <td>17</td>\n",
              "      <td>Germany</td>\n",
              "      <td>6.985</td>\n",
              "      <td>1.373</td>\n",
              "      <td>1.454</td>\n",
              "      <td>0.987</td>\n",
              "      <td>0.495</td>\n",
              "      <td>0.261</td>\n",
              "      <td>0.265</td>\n",
              "      <td>happy</td>\n",
              "    </tr>\n",
              "    <tr>\n",
              "      <th>17</th>\n",
              "      <td>18</td>\n",
              "      <td>Belgium</td>\n",
              "      <td>6.923</td>\n",
              "      <td>1.356</td>\n",
              "      <td>1.504</td>\n",
              "      <td>0.986</td>\n",
              "      <td>0.473</td>\n",
              "      <td>0.160</td>\n",
              "      <td>0.210</td>\n",
              "      <td>happy</td>\n",
              "    </tr>\n",
              "    <tr>\n",
              "      <th>18</th>\n",
              "      <td>19</td>\n",
              "      <td>United States</td>\n",
              "      <td>6.892</td>\n",
              "      <td>1.433</td>\n",
              "      <td>1.457</td>\n",
              "      <td>0.874</td>\n",
              "      <td>0.454</td>\n",
              "      <td>0.280</td>\n",
              "      <td>0.128</td>\n",
              "      <td>happy</td>\n",
              "    </tr>\n",
              "    <tr>\n",
              "      <th>19</th>\n",
              "      <td>20</td>\n",
              "      <td>Czech Republic</td>\n",
              "      <td>6.852</td>\n",
              "      <td>1.269</td>\n",
              "      <td>1.487</td>\n",
              "      <td>0.920</td>\n",
              "      <td>0.457</td>\n",
              "      <td>0.046</td>\n",
              "      <td>0.036</td>\n",
              "      <td>happy</td>\n",
              "    </tr>\n",
              "    <tr>\n",
              "      <th>20</th>\n",
              "      <td>21</td>\n",
              "      <td>United Arab Emirates</td>\n",
              "      <td>6.825</td>\n",
              "      <td>1.503</td>\n",
              "      <td>1.310</td>\n",
              "      <td>0.825</td>\n",
              "      <td>0.598</td>\n",
              "      <td>0.262</td>\n",
              "      <td>0.182</td>\n",
              "      <td>happy</td>\n",
              "    </tr>\n",
              "    <tr>\n",
              "      <th>21</th>\n",
              "      <td>22</td>\n",
              "      <td>Malta</td>\n",
              "      <td>6.726</td>\n",
              "      <td>1.300</td>\n",
              "      <td>1.520</td>\n",
              "      <td>0.999</td>\n",
              "      <td>0.564</td>\n",
              "      <td>0.375</td>\n",
              "      <td>0.151</td>\n",
              "      <td>happy</td>\n",
              "    </tr>\n",
              "    <tr>\n",
              "      <th>22</th>\n",
              "      <td>23</td>\n",
              "      <td>Mexico</td>\n",
              "      <td>6.595</td>\n",
              "      <td>1.070</td>\n",
              "      <td>1.323</td>\n",
              "      <td>0.861</td>\n",
              "      <td>0.433</td>\n",
              "      <td>0.074</td>\n",
              "      <td>0.073</td>\n",
              "      <td>happy</td>\n",
              "    </tr>\n",
              "    <tr>\n",
              "      <th>23</th>\n",
              "      <td>24</td>\n",
              "      <td>France</td>\n",
              "      <td>6.592</td>\n",
              "      <td>1.324</td>\n",
              "      <td>1.472</td>\n",
              "      <td>1.045</td>\n",
              "      <td>0.436</td>\n",
              "      <td>0.111</td>\n",
              "      <td>0.183</td>\n",
              "      <td>happy</td>\n",
              "    </tr>\n",
              "    <tr>\n",
              "      <th>24</th>\n",
              "      <td>25</td>\n",
              "      <td>Taiwan</td>\n",
              "      <td>6.446</td>\n",
              "      <td>1.368</td>\n",
              "      <td>1.430</td>\n",
              "      <td>0.914</td>\n",
              "      <td>0.351</td>\n",
              "      <td>0.242</td>\n",
              "      <td>0.097</td>\n",
              "      <td>happy</td>\n",
              "    </tr>\n",
              "    <tr>\n",
              "      <th>25</th>\n",
              "      <td>26</td>\n",
              "      <td>Chile</td>\n",
              "      <td>6.444</td>\n",
              "      <td>1.159</td>\n",
              "      <td>1.369</td>\n",
              "      <td>0.920</td>\n",
              "      <td>0.357</td>\n",
              "      <td>0.187</td>\n",
              "      <td>0.056</td>\n",
              "      <td>happy</td>\n",
              "    </tr>\n",
              "    <tr>\n",
              "      <th>26</th>\n",
              "      <td>27</td>\n",
              "      <td>Guatemala</td>\n",
              "      <td>6.436</td>\n",
              "      <td>0.800</td>\n",
              "      <td>1.269</td>\n",
              "      <td>0.746</td>\n",
              "      <td>0.535</td>\n",
              "      <td>0.175</td>\n",
              "      <td>0.078</td>\n",
              "      <td>happy</td>\n",
              "    </tr>\n",
              "    <tr>\n",
              "      <th>27</th>\n",
              "      <td>28</td>\n",
              "      <td>Saudi Arabia</td>\n",
              "      <td>6.375</td>\n",
              "      <td>1.403</td>\n",
              "      <td>1.357</td>\n",
              "      <td>0.795</td>\n",
              "      <td>0.439</td>\n",
              "      <td>0.080</td>\n",
              "      <td>0.132</td>\n",
              "      <td>happy</td>\n",
              "    </tr>\n",
              "    <tr>\n",
              "      <th>28</th>\n",
              "      <td>29</td>\n",
              "      <td>Qatar</td>\n",
              "      <td>6.374</td>\n",
              "      <td>1.684</td>\n",
              "      <td>1.313</td>\n",
              "      <td>0.871</td>\n",
              "      <td>0.555</td>\n",
              "      <td>0.220</td>\n",
              "      <td>0.167</td>\n",
              "      <td>happy</td>\n",
              "    </tr>\n",
              "    <tr>\n",
              "      <th>29</th>\n",
              "      <td>30</td>\n",
              "      <td>Spain</td>\n",
              "      <td>6.354</td>\n",
              "      <td>1.286</td>\n",
              "      <td>1.484</td>\n",
              "      <td>1.062</td>\n",
              "      <td>0.362</td>\n",
              "      <td>0.153</td>\n",
              "      <td>0.079</td>\n",
              "      <td>happy</td>\n",
              "    </tr>\n",
              "    <tr>\n",
              "      <th>30</th>\n",
              "      <td>31</td>\n",
              "      <td>Panama</td>\n",
              "      <td>6.321</td>\n",
              "      <td>1.149</td>\n",
              "      <td>1.442</td>\n",
              "      <td>0.910</td>\n",
              "      <td>0.516</td>\n",
              "      <td>0.109</td>\n",
              "      <td>0.054</td>\n",
              "      <td>happy</td>\n",
              "    </tr>\n",
              "    <tr>\n",
              "      <th>31</th>\n",
              "      <td>32</td>\n",
              "      <td>Brazil</td>\n",
              "      <td>6.300</td>\n",
              "      <td>1.004</td>\n",
              "      <td>1.439</td>\n",
              "      <td>0.802</td>\n",
              "      <td>0.390</td>\n",
              "      <td>0.099</td>\n",
              "      <td>0.086</td>\n",
              "      <td>happy</td>\n",
              "    </tr>\n",
              "    <tr>\n",
              "      <th>32</th>\n",
              "      <td>33</td>\n",
              "      <td>Uruguay</td>\n",
              "      <td>6.293</td>\n",
              "      <td>1.124</td>\n",
              "      <td>1.465</td>\n",
              "      <td>0.891</td>\n",
              "      <td>0.523</td>\n",
              "      <td>0.127</td>\n",
              "      <td>0.150</td>\n",
              "      <td>happy</td>\n",
              "    </tr>\n",
              "    <tr>\n",
              "      <th>33</th>\n",
              "      <td>34</td>\n",
              "      <td>Singapore</td>\n",
              "      <td>6.262</td>\n",
              "      <td>1.572</td>\n",
              "      <td>1.463</td>\n",
              "      <td>1.141</td>\n",
              "      <td>0.556</td>\n",
              "      <td>0.271</td>\n",
              "      <td>0.453</td>\n",
              "      <td>happy</td>\n",
              "    </tr>\n",
              "    <tr>\n",
              "      <th>34</th>\n",
              "      <td>35</td>\n",
              "      <td>El Salvador</td>\n",
              "      <td>6.253</td>\n",
              "      <td>0.794</td>\n",
              "      <td>1.242</td>\n",
              "      <td>0.789</td>\n",
              "      <td>0.430</td>\n",
              "      <td>0.093</td>\n",
              "      <td>0.074</td>\n",
              "      <td>happy</td>\n",
              "    </tr>\n",
              "    <tr>\n",
              "      <th>35</th>\n",
              "      <td>36</td>\n",
              "      <td>Italy</td>\n",
              "      <td>6.223</td>\n",
              "      <td>1.294</td>\n",
              "      <td>1.488</td>\n",
              "      <td>1.039</td>\n",
              "      <td>0.231</td>\n",
              "      <td>0.158</td>\n",
              "      <td>0.030</td>\n",
              "      <td>happy</td>\n",
              "    </tr>\n",
              "    <tr>\n",
              "      <th>36</th>\n",
              "      <td>37</td>\n",
              "      <td>Bahrain</td>\n",
              "      <td>6.199</td>\n",
              "      <td>1.362</td>\n",
              "      <td>1.368</td>\n",
              "      <td>0.871</td>\n",
              "      <td>0.536</td>\n",
              "      <td>0.255</td>\n",
              "      <td>0.110</td>\n",
              "      <td>happy</td>\n",
              "    </tr>\n",
              "    <tr>\n",
              "      <th>37</th>\n",
              "      <td>38</td>\n",
              "      <td>Slovakia</td>\n",
              "      <td>6.198</td>\n",
              "      <td>1.246</td>\n",
              "      <td>1.504</td>\n",
              "      <td>0.881</td>\n",
              "      <td>0.334</td>\n",
              "      <td>0.121</td>\n",
              "      <td>0.014</td>\n",
              "      <td>happy</td>\n",
              "    </tr>\n",
              "    <tr>\n",
              "      <th>38</th>\n",
              "      <td>39</td>\n",
              "      <td>Trinidad &amp; Tobago</td>\n",
              "      <td>6.192</td>\n",
              "      <td>1.231</td>\n",
              "      <td>1.477</td>\n",
              "      <td>0.713</td>\n",
              "      <td>0.489</td>\n",
              "      <td>0.185</td>\n",
              "      <td>0.016</td>\n",
              "      <td>happy</td>\n",
              "    </tr>\n",
              "    <tr>\n",
              "      <th>39</th>\n",
              "      <td>40</td>\n",
              "      <td>Poland</td>\n",
              "      <td>6.182</td>\n",
              "      <td>1.206</td>\n",
              "      <td>1.438</td>\n",
              "      <td>0.884</td>\n",
              "      <td>0.483</td>\n",
              "      <td>0.117</td>\n",
              "      <td>0.050</td>\n",
              "      <td>happy</td>\n",
              "    </tr>\n",
              "    <tr>\n",
              "      <th>40</th>\n",
              "      <td>41</td>\n",
              "      <td>Uzbekistan</td>\n",
              "      <td>6.174</td>\n",
              "      <td>0.745</td>\n",
              "      <td>1.529</td>\n",
              "      <td>0.756</td>\n",
              "      <td>0.631</td>\n",
              "      <td>0.322</td>\n",
              "      <td>0.240</td>\n",
              "      <td>happy</td>\n",
              "    </tr>\n",
              "    <tr>\n",
              "      <th>41</th>\n",
              "      <td>42</td>\n",
              "      <td>Lithuania</td>\n",
              "      <td>6.149</td>\n",
              "      <td>1.238</td>\n",
              "      <td>1.515</td>\n",
              "      <td>0.818</td>\n",
              "      <td>0.291</td>\n",
              "      <td>0.043</td>\n",
              "      <td>0.042</td>\n",
              "      <td>happy</td>\n",
              "    </tr>\n",
              "    <tr>\n",
              "      <th>42</th>\n",
              "      <td>43</td>\n",
              "      <td>Colombia</td>\n",
              "      <td>6.125</td>\n",
              "      <td>0.985</td>\n",
              "      <td>1.410</td>\n",
              "      <td>0.841</td>\n",
              "      <td>0.470</td>\n",
              "      <td>0.099</td>\n",
              "      <td>0.034</td>\n",
              "      <td>happy</td>\n",
              "    </tr>\n",
              "    <tr>\n",
              "      <th>43</th>\n",
              "      <td>44</td>\n",
              "      <td>Slovenia</td>\n",
              "      <td>6.118</td>\n",
              "      <td>1.258</td>\n",
              "      <td>1.523</td>\n",
              "      <td>0.953</td>\n",
              "      <td>0.564</td>\n",
              "      <td>0.144</td>\n",
              "      <td>0.057</td>\n",
              "      <td>happy</td>\n",
              "    </tr>\n",
              "    <tr>\n",
              "      <th>44</th>\n",
              "      <td>45</td>\n",
              "      <td>Nicaragua</td>\n",
              "      <td>6.105</td>\n",
              "      <td>0.694</td>\n",
              "      <td>1.325</td>\n",
              "      <td>0.835</td>\n",
              "      <td>0.435</td>\n",
              "      <td>0.200</td>\n",
              "      <td>0.127</td>\n",
              "      <td>happy</td>\n",
              "    </tr>\n",
              "    <tr>\n",
              "      <th>45</th>\n",
              "      <td>46</td>\n",
              "      <td>Kosovo</td>\n",
              "      <td>6.100</td>\n",
              "      <td>0.882</td>\n",
              "      <td>1.232</td>\n",
              "      <td>0.758</td>\n",
              "      <td>0.489</td>\n",
              "      <td>0.262</td>\n",
              "      <td>0.006</td>\n",
              "      <td>happy</td>\n",
              "    </tr>\n",
              "    <tr>\n",
              "      <th>46</th>\n",
              "      <td>47</td>\n",
              "      <td>Argentina</td>\n",
              "      <td>6.086</td>\n",
              "      <td>1.092</td>\n",
              "      <td>1.432</td>\n",
              "      <td>0.881</td>\n",
              "      <td>0.471</td>\n",
              "      <td>0.066</td>\n",
              "      <td>0.050</td>\n",
              "      <td>happy</td>\n",
              "    </tr>\n",
              "    <tr>\n",
              "      <th>47</th>\n",
              "      <td>48</td>\n",
              "      <td>Romania</td>\n",
              "      <td>6.070</td>\n",
              "      <td>1.162</td>\n",
              "      <td>1.232</td>\n",
              "      <td>0.825</td>\n",
              "      <td>0.462</td>\n",
              "      <td>0.083</td>\n",
              "      <td>0.005</td>\n",
              "      <td>happy</td>\n",
              "    </tr>\n",
              "    <tr>\n",
              "      <th>48</th>\n",
              "      <td>49</td>\n",
              "      <td>Cyprus</td>\n",
              "      <td>6.046</td>\n",
              "      <td>1.263</td>\n",
              "      <td>1.223</td>\n",
              "      <td>1.042</td>\n",
              "      <td>0.406</td>\n",
              "      <td>0.190</td>\n",
              "      <td>0.041</td>\n",
              "      <td>happy</td>\n",
              "    </tr>\n",
              "    <tr>\n",
              "      <th>49</th>\n",
              "      <td>50</td>\n",
              "      <td>Ecuador</td>\n",
              "      <td>6.028</td>\n",
              "      <td>0.912</td>\n",
              "      <td>1.312</td>\n",
              "      <td>0.868</td>\n",
              "      <td>0.498</td>\n",
              "      <td>0.126</td>\n",
              "      <td>0.087</td>\n",
              "      <td>happy</td>\n",
              "    </tr>\n",
              "    <tr>\n",
              "      <th>50</th>\n",
              "      <td>51</td>\n",
              "      <td>Kuwait</td>\n",
              "      <td>6.021</td>\n",
              "      <td>1.500</td>\n",
              "      <td>1.319</td>\n",
              "      <td>0.808</td>\n",
              "      <td>0.493</td>\n",
              "      <td>0.142</td>\n",
              "      <td>0.097</td>\n",
              "      <td>happy</td>\n",
              "    </tr>\n",
              "    <tr>\n",
              "      <th>51</th>\n",
              "      <td>52</td>\n",
              "      <td>Thailand</td>\n",
              "      <td>6.008</td>\n",
              "      <td>1.050</td>\n",
              "      <td>1.409</td>\n",
              "      <td>0.828</td>\n",
              "      <td>0.557</td>\n",
              "      <td>0.359</td>\n",
              "      <td>0.028</td>\n",
              "      <td>happy</td>\n",
              "    </tr>\n",
              "  </tbody>\n",
              "</table>\n",
              "</div>"
            ],
            "text/plain": [
              "    Overall rank     Country or region  ...  Perceptions of corruption  Status\n",
              "16            17               Germany  ...                      0.265   happy\n",
              "17            18               Belgium  ...                      0.210   happy\n",
              "18            19         United States  ...                      0.128   happy\n",
              "19            20        Czech Republic  ...                      0.036   happy\n",
              "20            21  United Arab Emirates  ...                      0.182   happy\n",
              "21            22                 Malta  ...                      0.151   happy\n",
              "22            23                Mexico  ...                      0.073   happy\n",
              "23            24                France  ...                      0.183   happy\n",
              "24            25                Taiwan  ...                      0.097   happy\n",
              "25            26                 Chile  ...                      0.056   happy\n",
              "26            27             Guatemala  ...                      0.078   happy\n",
              "27            28          Saudi Arabia  ...                      0.132   happy\n",
              "28            29                 Qatar  ...                      0.167   happy\n",
              "29            30                 Spain  ...                      0.079   happy\n",
              "30            31                Panama  ...                      0.054   happy\n",
              "31            32                Brazil  ...                      0.086   happy\n",
              "32            33               Uruguay  ...                      0.150   happy\n",
              "33            34             Singapore  ...                      0.453   happy\n",
              "34            35           El Salvador  ...                      0.074   happy\n",
              "35            36                 Italy  ...                      0.030   happy\n",
              "36            37               Bahrain  ...                      0.110   happy\n",
              "37            38              Slovakia  ...                      0.014   happy\n",
              "38            39     Trinidad & Tobago  ...                      0.016   happy\n",
              "39            40                Poland  ...                      0.050   happy\n",
              "40            41            Uzbekistan  ...                      0.240   happy\n",
              "41            42             Lithuania  ...                      0.042   happy\n",
              "42            43              Colombia  ...                      0.034   happy\n",
              "43            44              Slovenia  ...                      0.057   happy\n",
              "44            45             Nicaragua  ...                      0.127   happy\n",
              "45            46                Kosovo  ...                      0.006   happy\n",
              "46            47             Argentina  ...                      0.050   happy\n",
              "47            48               Romania  ...                      0.005   happy\n",
              "48            49                Cyprus  ...                      0.041   happy\n",
              "49            50               Ecuador  ...                      0.087   happy\n",
              "50            51                Kuwait  ...                      0.097   happy\n",
              "51            52              Thailand  ...                      0.028   happy\n",
              "\n",
              "[36 rows x 10 columns]"
            ]
          },
          "metadata": {
            "tags": []
          },
          "execution_count": 26
        }
      ]
    },
    {
      "cell_type": "code",
      "metadata": {
        "id": "0ca81gNNCJ1r",
        "colab": {
          "base_uri": "https://localhost:8080/",
          "height": 266
        },
        "outputId": "6e765215-bb7f-4067-ffe5-de9d70070aee"
      },
      "source": [
        "df[(df['Status']=='happy') & (df['GDP per capita'] < 1)]"
      ],
      "execution_count": null,
      "outputs": [
        {
          "output_type": "execute_result",
          "data": {
            "text/html": [
              "<div>\n",
              "<style scoped>\n",
              "    .dataframe tbody tr th:only-of-type {\n",
              "        vertical-align: middle;\n",
              "    }\n",
              "\n",
              "    .dataframe tbody tr th {\n",
              "        vertical-align: top;\n",
              "    }\n",
              "\n",
              "    .dataframe thead th {\n",
              "        text-align: right;\n",
              "    }\n",
              "</style>\n",
              "<table border=\"1\" class=\"dataframe\">\n",
              "  <thead>\n",
              "    <tr style=\"text-align: right;\">\n",
              "      <th></th>\n",
              "      <th>Overall rank</th>\n",
              "      <th>Country or region</th>\n",
              "      <th>Score</th>\n",
              "      <th>GDP per capita</th>\n",
              "      <th>Social support</th>\n",
              "      <th>Healthy life expectancy</th>\n",
              "      <th>Freedom to make life choices</th>\n",
              "      <th>Generosity</th>\n",
              "      <th>Perceptions of corruption</th>\n",
              "      <th>Status</th>\n",
              "    </tr>\n",
              "  </thead>\n",
              "  <tbody>\n",
              "    <tr>\n",
              "      <th>26</th>\n",
              "      <td>27</td>\n",
              "      <td>Guatemala</td>\n",
              "      <td>6.436</td>\n",
              "      <td>0.800</td>\n",
              "      <td>1.269</td>\n",
              "      <td>0.746</td>\n",
              "      <td>0.535</td>\n",
              "      <td>0.175</td>\n",
              "      <td>0.078</td>\n",
              "      <td>happy</td>\n",
              "    </tr>\n",
              "    <tr>\n",
              "      <th>34</th>\n",
              "      <td>35</td>\n",
              "      <td>El Salvador</td>\n",
              "      <td>6.253</td>\n",
              "      <td>0.794</td>\n",
              "      <td>1.242</td>\n",
              "      <td>0.789</td>\n",
              "      <td>0.430</td>\n",
              "      <td>0.093</td>\n",
              "      <td>0.074</td>\n",
              "      <td>happy</td>\n",
              "    </tr>\n",
              "    <tr>\n",
              "      <th>40</th>\n",
              "      <td>41</td>\n",
              "      <td>Uzbekistan</td>\n",
              "      <td>6.174</td>\n",
              "      <td>0.745</td>\n",
              "      <td>1.529</td>\n",
              "      <td>0.756</td>\n",
              "      <td>0.631</td>\n",
              "      <td>0.322</td>\n",
              "      <td>0.240</td>\n",
              "      <td>happy</td>\n",
              "    </tr>\n",
              "    <tr>\n",
              "      <th>42</th>\n",
              "      <td>43</td>\n",
              "      <td>Colombia</td>\n",
              "      <td>6.125</td>\n",
              "      <td>0.985</td>\n",
              "      <td>1.410</td>\n",
              "      <td>0.841</td>\n",
              "      <td>0.470</td>\n",
              "      <td>0.099</td>\n",
              "      <td>0.034</td>\n",
              "      <td>happy</td>\n",
              "    </tr>\n",
              "    <tr>\n",
              "      <th>44</th>\n",
              "      <td>45</td>\n",
              "      <td>Nicaragua</td>\n",
              "      <td>6.105</td>\n",
              "      <td>0.694</td>\n",
              "      <td>1.325</td>\n",
              "      <td>0.835</td>\n",
              "      <td>0.435</td>\n",
              "      <td>0.200</td>\n",
              "      <td>0.127</td>\n",
              "      <td>happy</td>\n",
              "    </tr>\n",
              "    <tr>\n",
              "      <th>45</th>\n",
              "      <td>46</td>\n",
              "      <td>Kosovo</td>\n",
              "      <td>6.100</td>\n",
              "      <td>0.882</td>\n",
              "      <td>1.232</td>\n",
              "      <td>0.758</td>\n",
              "      <td>0.489</td>\n",
              "      <td>0.262</td>\n",
              "      <td>0.006</td>\n",
              "      <td>happy</td>\n",
              "    </tr>\n",
              "    <tr>\n",
              "      <th>49</th>\n",
              "      <td>50</td>\n",
              "      <td>Ecuador</td>\n",
              "      <td>6.028</td>\n",
              "      <td>0.912</td>\n",
              "      <td>1.312</td>\n",
              "      <td>0.868</td>\n",
              "      <td>0.498</td>\n",
              "      <td>0.126</td>\n",
              "      <td>0.087</td>\n",
              "      <td>happy</td>\n",
              "    </tr>\n",
              "  </tbody>\n",
              "</table>\n",
              "</div>"
            ],
            "text/plain": [
              "    Overall rank Country or region  ...  Perceptions of corruption  Status\n",
              "26            27         Guatemala  ...                      0.078   happy\n",
              "34            35       El Salvador  ...                      0.074   happy\n",
              "40            41        Uzbekistan  ...                      0.240   happy\n",
              "42            43          Colombia  ...                      0.034   happy\n",
              "44            45         Nicaragua  ...                      0.127   happy\n",
              "45            46            Kosovo  ...                      0.006   happy\n",
              "49            50           Ecuador  ...                      0.087   happy\n",
              "\n",
              "[7 rows x 10 columns]"
            ]
          },
          "metadata": {
            "tags": []
          },
          "execution_count": 25
        }
      ]
    },
    {
      "cell_type": "code",
      "metadata": {
        "id": "nHK7cGlGCy7b",
        "colab": {
          "base_uri": "https://localhost:8080/",
          "height": 266
        },
        "outputId": "12a4a2f3-fdc8-4e74-dad7-87c52dddd486"
      },
      "source": [
        "df[(df['Status']=='happy') & (df['GDP per capita'] < 1)] [['Social support', 'Generosity']]"
      ],
      "execution_count": null,
      "outputs": [
        {
          "output_type": "execute_result",
          "data": {
            "text/html": [
              "<div>\n",
              "<style scoped>\n",
              "    .dataframe tbody tr th:only-of-type {\n",
              "        vertical-align: middle;\n",
              "    }\n",
              "\n",
              "    .dataframe tbody tr th {\n",
              "        vertical-align: top;\n",
              "    }\n",
              "\n",
              "    .dataframe thead th {\n",
              "        text-align: right;\n",
              "    }\n",
              "</style>\n",
              "<table border=\"1\" class=\"dataframe\">\n",
              "  <thead>\n",
              "    <tr style=\"text-align: right;\">\n",
              "      <th></th>\n",
              "      <th>Social support</th>\n",
              "      <th>Generosity</th>\n",
              "    </tr>\n",
              "  </thead>\n",
              "  <tbody>\n",
              "    <tr>\n",
              "      <th>26</th>\n",
              "      <td>1.269</td>\n",
              "      <td>0.175</td>\n",
              "    </tr>\n",
              "    <tr>\n",
              "      <th>34</th>\n",
              "      <td>1.242</td>\n",
              "      <td>0.093</td>\n",
              "    </tr>\n",
              "    <tr>\n",
              "      <th>40</th>\n",
              "      <td>1.529</td>\n",
              "      <td>0.322</td>\n",
              "    </tr>\n",
              "    <tr>\n",
              "      <th>42</th>\n",
              "      <td>1.410</td>\n",
              "      <td>0.099</td>\n",
              "    </tr>\n",
              "    <tr>\n",
              "      <th>44</th>\n",
              "      <td>1.325</td>\n",
              "      <td>0.200</td>\n",
              "    </tr>\n",
              "    <tr>\n",
              "      <th>45</th>\n",
              "      <td>1.232</td>\n",
              "      <td>0.262</td>\n",
              "    </tr>\n",
              "    <tr>\n",
              "      <th>49</th>\n",
              "      <td>1.312</td>\n",
              "      <td>0.126</td>\n",
              "    </tr>\n",
              "  </tbody>\n",
              "</table>\n",
              "</div>"
            ],
            "text/plain": [
              "    Social support  Generosity\n",
              "26           1.269       0.175\n",
              "34           1.242       0.093\n",
              "40           1.529       0.322\n",
              "42           1.410       0.099\n",
              "44           1.325       0.200\n",
              "45           1.232       0.262\n",
              "49           1.312       0.126"
            ]
          },
          "metadata": {
            "tags": []
          },
          "execution_count": 27
        }
      ]
    },
    {
      "cell_type": "code",
      "metadata": {
        "id": "mEWWp9d4DCy_",
        "colab": {
          "base_uri": "https://localhost:8080/",
          "height": 266
        },
        "outputId": "028238dd-bd86-48ca-9f86-040b3976af53"
      },
      "source": [
        "df[(df['Status']=='happy') & (df['GDP per capita'] < 1)] [['Country or region', 'Social support', 'Generosity']]"
      ],
      "execution_count": null,
      "outputs": [
        {
          "output_type": "execute_result",
          "data": {
            "text/html": [
              "<div>\n",
              "<style scoped>\n",
              "    .dataframe tbody tr th:only-of-type {\n",
              "        vertical-align: middle;\n",
              "    }\n",
              "\n",
              "    .dataframe tbody tr th {\n",
              "        vertical-align: top;\n",
              "    }\n",
              "\n",
              "    .dataframe thead th {\n",
              "        text-align: right;\n",
              "    }\n",
              "</style>\n",
              "<table border=\"1\" class=\"dataframe\">\n",
              "  <thead>\n",
              "    <tr style=\"text-align: right;\">\n",
              "      <th></th>\n",
              "      <th>Country or region</th>\n",
              "      <th>Social support</th>\n",
              "      <th>Generosity</th>\n",
              "    </tr>\n",
              "  </thead>\n",
              "  <tbody>\n",
              "    <tr>\n",
              "      <th>26</th>\n",
              "      <td>Guatemala</td>\n",
              "      <td>1.269</td>\n",
              "      <td>0.175</td>\n",
              "    </tr>\n",
              "    <tr>\n",
              "      <th>34</th>\n",
              "      <td>El Salvador</td>\n",
              "      <td>1.242</td>\n",
              "      <td>0.093</td>\n",
              "    </tr>\n",
              "    <tr>\n",
              "      <th>40</th>\n",
              "      <td>Uzbekistan</td>\n",
              "      <td>1.529</td>\n",
              "      <td>0.322</td>\n",
              "    </tr>\n",
              "    <tr>\n",
              "      <th>42</th>\n",
              "      <td>Colombia</td>\n",
              "      <td>1.410</td>\n",
              "      <td>0.099</td>\n",
              "    </tr>\n",
              "    <tr>\n",
              "      <th>44</th>\n",
              "      <td>Nicaragua</td>\n",
              "      <td>1.325</td>\n",
              "      <td>0.200</td>\n",
              "    </tr>\n",
              "    <tr>\n",
              "      <th>45</th>\n",
              "      <td>Kosovo</td>\n",
              "      <td>1.232</td>\n",
              "      <td>0.262</td>\n",
              "    </tr>\n",
              "    <tr>\n",
              "      <th>49</th>\n",
              "      <td>Ecuador</td>\n",
              "      <td>1.312</td>\n",
              "      <td>0.126</td>\n",
              "    </tr>\n",
              "  </tbody>\n",
              "</table>\n",
              "</div>"
            ],
            "text/plain": [
              "   Country or region  Social support  Generosity\n",
              "26         Guatemala           1.269       0.175\n",
              "34       El Salvador           1.242       0.093\n",
              "40        Uzbekistan           1.529       0.322\n",
              "42          Colombia           1.410       0.099\n",
              "44         Nicaragua           1.325       0.200\n",
              "45            Kosovo           1.232       0.262\n",
              "49           Ecuador           1.312       0.126"
            ]
          },
          "metadata": {
            "tags": []
          },
          "execution_count": 28
        }
      ]
    },
    {
      "cell_type": "code",
      "metadata": {
        "id": "BQUXyHj5DR51",
        "colab": {
          "base_uri": "https://localhost:8080/",
          "height": 204
        },
        "outputId": "d6a78a69-f513-4960-9fa8-c6a8e20bb2f8"
      },
      "source": [
        "df.head()"
      ],
      "execution_count": null,
      "outputs": [
        {
          "output_type": "execute_result",
          "data": {
            "text/html": [
              "<div>\n",
              "<style scoped>\n",
              "    .dataframe tbody tr th:only-of-type {\n",
              "        vertical-align: middle;\n",
              "    }\n",
              "\n",
              "    .dataframe tbody tr th {\n",
              "        vertical-align: top;\n",
              "    }\n",
              "\n",
              "    .dataframe thead th {\n",
              "        text-align: right;\n",
              "    }\n",
              "</style>\n",
              "<table border=\"1\" class=\"dataframe\">\n",
              "  <thead>\n",
              "    <tr style=\"text-align: right;\">\n",
              "      <th></th>\n",
              "      <th>Overall rank</th>\n",
              "      <th>Country or region</th>\n",
              "      <th>Score</th>\n",
              "      <th>GDP per capita</th>\n",
              "      <th>Social support</th>\n",
              "      <th>Healthy life expectancy</th>\n",
              "      <th>Freedom to make life choices</th>\n",
              "      <th>Generosity</th>\n",
              "      <th>Perceptions of corruption</th>\n",
              "      <th>Status</th>\n",
              "    </tr>\n",
              "  </thead>\n",
              "  <tbody>\n",
              "    <tr>\n",
              "      <th>0</th>\n",
              "      <td>1</td>\n",
              "      <td>Finland</td>\n",
              "      <td>7.769</td>\n",
              "      <td>1.340</td>\n",
              "      <td>1.587</td>\n",
              "      <td>0.986</td>\n",
              "      <td>0.596</td>\n",
              "      <td>0.153</td>\n",
              "      <td>0.393</td>\n",
              "      <td>extremly happy</td>\n",
              "    </tr>\n",
              "    <tr>\n",
              "      <th>1</th>\n",
              "      <td>2</td>\n",
              "      <td>Denmark</td>\n",
              "      <td>7.600</td>\n",
              "      <td>1.383</td>\n",
              "      <td>1.573</td>\n",
              "      <td>0.996</td>\n",
              "      <td>0.592</td>\n",
              "      <td>0.252</td>\n",
              "      <td>0.410</td>\n",
              "      <td>extremly happy</td>\n",
              "    </tr>\n",
              "    <tr>\n",
              "      <th>2</th>\n",
              "      <td>3</td>\n",
              "      <td>Norway</td>\n",
              "      <td>7.554</td>\n",
              "      <td>1.488</td>\n",
              "      <td>1.582</td>\n",
              "      <td>1.028</td>\n",
              "      <td>0.603</td>\n",
              "      <td>0.271</td>\n",
              "      <td>0.341</td>\n",
              "      <td>extremly happy</td>\n",
              "    </tr>\n",
              "    <tr>\n",
              "      <th>3</th>\n",
              "      <td>4</td>\n",
              "      <td>Iceland</td>\n",
              "      <td>7.494</td>\n",
              "      <td>1.380</td>\n",
              "      <td>1.624</td>\n",
              "      <td>1.026</td>\n",
              "      <td>0.591</td>\n",
              "      <td>0.354</td>\n",
              "      <td>0.118</td>\n",
              "      <td>extremly happy</td>\n",
              "    </tr>\n",
              "    <tr>\n",
              "      <th>4</th>\n",
              "      <td>5</td>\n",
              "      <td>Netherlands</td>\n",
              "      <td>7.488</td>\n",
              "      <td>1.396</td>\n",
              "      <td>1.522</td>\n",
              "      <td>0.999</td>\n",
              "      <td>0.557</td>\n",
              "      <td>0.322</td>\n",
              "      <td>0.298</td>\n",
              "      <td>extremly happy</td>\n",
              "    </tr>\n",
              "  </tbody>\n",
              "</table>\n",
              "</div>"
            ],
            "text/plain": [
              "   Overall rank Country or region  ...  Perceptions of corruption          Status\n",
              "0             1           Finland  ...                      0.393  extremly happy\n",
              "1             2           Denmark  ...                      0.410  extremly happy\n",
              "2             3            Norway  ...                      0.341  extremly happy\n",
              "3             4           Iceland  ...                      0.118  extremly happy\n",
              "4             5       Netherlands  ...                      0.298  extremly happy\n",
              "\n",
              "[5 rows x 10 columns]"
            ]
          },
          "metadata": {
            "tags": []
          },
          "execution_count": 29
        }
      ]
    },
    {
      "cell_type": "code",
      "metadata": {
        "id": "Isnq5McIDVV1"
      },
      "source": [
        "df['Social hap'] = df['Social support'] * df['Healthy life expectancy']"
      ],
      "execution_count": null,
      "outputs": []
    },
    {
      "cell_type": "code",
      "metadata": {
        "id": "rIye7SZgDpB7",
        "colab": {
          "base_uri": "https://localhost:8080/",
          "height": 204
        },
        "outputId": "090d86cb-4e87-40e5-ff72-bb5a4cf5d0ba"
      },
      "source": [
        "df.head()"
      ],
      "execution_count": null,
      "outputs": [
        {
          "output_type": "execute_result",
          "data": {
            "text/html": [
              "<div>\n",
              "<style scoped>\n",
              "    .dataframe tbody tr th:only-of-type {\n",
              "        vertical-align: middle;\n",
              "    }\n",
              "\n",
              "    .dataframe tbody tr th {\n",
              "        vertical-align: top;\n",
              "    }\n",
              "\n",
              "    .dataframe thead th {\n",
              "        text-align: right;\n",
              "    }\n",
              "</style>\n",
              "<table border=\"1\" class=\"dataframe\">\n",
              "  <thead>\n",
              "    <tr style=\"text-align: right;\">\n",
              "      <th></th>\n",
              "      <th>Overall rank</th>\n",
              "      <th>Country or region</th>\n",
              "      <th>Score</th>\n",
              "      <th>GDP per capita</th>\n",
              "      <th>Social support</th>\n",
              "      <th>Healthy life expectancy</th>\n",
              "      <th>Freedom to make life choices</th>\n",
              "      <th>Generosity</th>\n",
              "      <th>Perceptions of corruption</th>\n",
              "      <th>Status</th>\n",
              "      <th>Social hap</th>\n",
              "    </tr>\n",
              "  </thead>\n",
              "  <tbody>\n",
              "    <tr>\n",
              "      <th>0</th>\n",
              "      <td>1</td>\n",
              "      <td>Finland</td>\n",
              "      <td>7.769</td>\n",
              "      <td>1.340</td>\n",
              "      <td>1.587</td>\n",
              "      <td>0.986</td>\n",
              "      <td>0.596</td>\n",
              "      <td>0.153</td>\n",
              "      <td>0.393</td>\n",
              "      <td>extremly happy</td>\n",
              "      <td>1.564782</td>\n",
              "    </tr>\n",
              "    <tr>\n",
              "      <th>1</th>\n",
              "      <td>2</td>\n",
              "      <td>Denmark</td>\n",
              "      <td>7.600</td>\n",
              "      <td>1.383</td>\n",
              "      <td>1.573</td>\n",
              "      <td>0.996</td>\n",
              "      <td>0.592</td>\n",
              "      <td>0.252</td>\n",
              "      <td>0.410</td>\n",
              "      <td>extremly happy</td>\n",
              "      <td>1.566708</td>\n",
              "    </tr>\n",
              "    <tr>\n",
              "      <th>2</th>\n",
              "      <td>3</td>\n",
              "      <td>Norway</td>\n",
              "      <td>7.554</td>\n",
              "      <td>1.488</td>\n",
              "      <td>1.582</td>\n",
              "      <td>1.028</td>\n",
              "      <td>0.603</td>\n",
              "      <td>0.271</td>\n",
              "      <td>0.341</td>\n",
              "      <td>extremly happy</td>\n",
              "      <td>1.626296</td>\n",
              "    </tr>\n",
              "    <tr>\n",
              "      <th>3</th>\n",
              "      <td>4</td>\n",
              "      <td>Iceland</td>\n",
              "      <td>7.494</td>\n",
              "      <td>1.380</td>\n",
              "      <td>1.624</td>\n",
              "      <td>1.026</td>\n",
              "      <td>0.591</td>\n",
              "      <td>0.354</td>\n",
              "      <td>0.118</td>\n",
              "      <td>extremly happy</td>\n",
              "      <td>1.666224</td>\n",
              "    </tr>\n",
              "    <tr>\n",
              "      <th>4</th>\n",
              "      <td>5</td>\n",
              "      <td>Netherlands</td>\n",
              "      <td>7.488</td>\n",
              "      <td>1.396</td>\n",
              "      <td>1.522</td>\n",
              "      <td>0.999</td>\n",
              "      <td>0.557</td>\n",
              "      <td>0.322</td>\n",
              "      <td>0.298</td>\n",
              "      <td>extremly happy</td>\n",
              "      <td>1.520478</td>\n",
              "    </tr>\n",
              "  </tbody>\n",
              "</table>\n",
              "</div>"
            ],
            "text/plain": [
              "   Overall rank Country or region  ...          Status  Social hap\n",
              "0             1           Finland  ...  extremly happy    1.564782\n",
              "1             2           Denmark  ...  extremly happy    1.566708\n",
              "2             3            Norway  ...  extremly happy    1.626296\n",
              "3             4           Iceland  ...  extremly happy    1.666224\n",
              "4             5       Netherlands  ...  extremly happy    1.520478\n",
              "\n",
              "[5 rows x 11 columns]"
            ]
          },
          "metadata": {
            "tags": []
          },
          "execution_count": 32
        }
      ]
    },
    {
      "cell_type": "code",
      "metadata": {
        "id": "F4PmPvhHBlrN",
        "colab": {
          "base_uri": "https://localhost:8080/",
          "height": 80
        },
        "outputId": "598db834-a262-4640-9221-739db81af5db"
      },
      "source": [
        "df.loc[df['Country or region']=='Kyrgyzstan']"
      ],
      "execution_count": null,
      "outputs": [
        {
          "output_type": "execute_result",
          "data": {
            "text/html": [
              "<div>\n",
              "<style scoped>\n",
              "    .dataframe tbody tr th:only-of-type {\n",
              "        vertical-align: middle;\n",
              "    }\n",
              "\n",
              "    .dataframe tbody tr th {\n",
              "        vertical-align: top;\n",
              "    }\n",
              "\n",
              "    .dataframe thead th {\n",
              "        text-align: right;\n",
              "    }\n",
              "</style>\n",
              "<table border=\"1\" class=\"dataframe\">\n",
              "  <thead>\n",
              "    <tr style=\"text-align: right;\">\n",
              "      <th></th>\n",
              "      <th>Overall rank</th>\n",
              "      <th>Country or region</th>\n",
              "      <th>Score</th>\n",
              "      <th>GDP per capita</th>\n",
              "      <th>Social support</th>\n",
              "      <th>Healthy life expectancy</th>\n",
              "      <th>Freedom to make life choices</th>\n",
              "      <th>Generosity</th>\n",
              "      <th>Perceptions of corruption</th>\n",
              "      <th>Status</th>\n",
              "    </tr>\n",
              "  </thead>\n",
              "  <tbody>\n",
              "    <tr>\n",
              "      <th>85</th>\n",
              "      <td>86</td>\n",
              "      <td>Kyrgyzstan</td>\n",
              "      <td>5.261</td>\n",
              "      <td>0.551</td>\n",
              "      <td>1.438</td>\n",
              "      <td>0.723</td>\n",
              "      <td>0.508</td>\n",
              "      <td>0.3</td>\n",
              "      <td>0.023</td>\n",
              "      <td>happy</td>\n",
              "    </tr>\n",
              "  </tbody>\n",
              "</table>\n",
              "</div>"
            ],
            "text/plain": [
              "    Overall rank Country or region  ...  Perceptions of corruption  Status\n",
              "85            86        Kyrgyzstan  ...                      0.023   happy\n",
              "\n",
              "[1 rows x 10 columns]"
            ]
          },
          "metadata": {
            "tags": []
          },
          "execution_count": 19
        }
      ]
    },
    {
      "cell_type": "markdown",
      "metadata": {
        "id": "CFsNJj3DGd84"
      },
      "source": [
        "# Matplotlib "
      ]
    },
    {
      "cell_type": "code",
      "metadata": {
        "id": "EQTzba99GdF4"
      },
      "source": [
        "import matplotlib.pyplot as plt\r\n",
        "% matplotlib inline"
      ],
      "execution_count": 1,
      "outputs": []
    },
    {
      "cell_type": "code",
      "metadata": {
        "id": "VyL-NSfPGgma",
        "colab": {
          "base_uri": "https://localhost:8080/",
          "height": 295
        },
        "outputId": "502e875a-588a-47f8-acb2-99692f04f617"
      },
      "source": [
        "plt.title(\"Hapiness survey\")\r\n",
        "plt.xlabel(\"Score\")\r\n",
        "plt.ylabel(\"GDP per capita\")\r\n",
        "plt.scatter(df['Score'], df['GDP per capita'],color='g', s= 50, alpha=0.5)\r\n",
        "plt.grid()\r\n",
        "plt.show()"
      ],
      "execution_count": null,
      "outputs": [
        {
          "output_type": "display_data",
          "data": {
            "image/png": "[encoded data removed]",
            "text/plain": [
              "<Figure size 432x288 with 1 Axes>"
            ]
          },
          "metadata": {
            "tags": [],
            "needs_background": "light"
          }
        }
      ]
    },
    {
      "cell_type": "code",
      "metadata": {
        "id": "vXPga9uRKbLa",
        "colab": {
          "base_uri": "https://localhost:8080/",
          "height": 295
        },
        "outputId": "f4c51102-b5b0-41c3-b71e-db6a62ad6d18"
      },
      "source": [
        "plt.title(\"Hapiness survey\")\r\n",
        "plt.xlabel(\"GDP per capita\")\r\n",
        "plt.ylabel(\"Social support\")\r\n",
        "x1 = df['GDP per capita'][df['Status'] =='happy']\r\n",
        "y1 = df[\"Social support\"][df['Status'] == 'happy']\r\n",
        "x2 = df['GDP per capita'][df['Status'] =='extremly happy']\r\n",
        "y2 = df[\"Social support\"][df['Status'] =='extremly happy']\r\n",
        "plt.scatter(x1, y1, color='g', s= 50, alpha=0.5, label='happy',marker ='x')\r\n",
        "plt.scatter(x2, y2, color='b', s= 50, alpha=0.5, label='extrem happy')\r\n",
        "plt.grid()\r\n",
        "plt.legend()\r\n",
        "plt.show()"
      ],
      "execution_count": null,
      "outputs": [
        {
          "output_type": "display_data",
          "data": {
            "image/png": "[encoded data removed]",
            "text/plain": [
              "<Figure size 432x288 with 1 Axes>"
            ]
          },
          "metadata": {
            "tags": [],
            "needs_background": "light"
          }
        }
      ]
    },
    {
      "cell_type": "code",
      "metadata": {
        "id": "aMLB7dp9J_IW",
        "colab": {
          "base_uri": "https://localhost:8080/",
          "height": 295
        },
        "outputId": "a3455a14-4dc2-4045-9a38-fa102d9356d6"
      },
      "source": [
        "plt.title(\"Distribution of happiness\")\r\n",
        "plt.xlabel('Hapiness score')\r\n",
        "plt.ylabel('Count')\r\n",
        "plt.hist(df[\"Score\"], bins=30, alpha = 0.5)\r\n",
        "plt.show()"
      ],
      "execution_count": 18,
      "outputs": [
        {
          "output_type": "display_data",
          "data": {
            "image/png": "[encoded data removed]",
            "text/plain": [
              "<Figure size 432x288 with 1 Axes>"
            ]
          },
          "metadata": {
            "tags": [],
            "needs_background": "light"
          }
        }
      ]
    }
  ]
}