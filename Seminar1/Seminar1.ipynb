{
  "nbformat": 4,
  "nbformat_minor": 0,
  "metadata": {
    "kernelspec": {
      "display_name": "Python 3",
      "language": "python",
      "name": "python3"
    },
    "language_info": {
      "codemirror_mode": {
        "name": "ipython",
        "version": 3
      },
      "file_extension": ".py",
      "mimetype": "text/x-python",
      "name": "python",
      "nbconvert_exporter": "python",
      "pygments_lexer": "ipython3",
      "version": "3.7.4"
    },
    "colab": {
      "name": "Seminar1-2.ipynb",
      "provenance": []
    }
  },
  "cells": [
    {
      "cell_type": "markdown",
      "metadata": {
        "id": "HLjnsSxpJF0E"
      },
      "source": [
        "# Python\n",
        "Python is an easy to learn, powerful programming language. It has efficient high-level data structures and a simple but effective approach to object-oriented programming. Python’s elegant syntax and dynamic typing, together with its interpreted nature, make it an ideal language for scripting and rapid application development in many areas on most platforms."
      ]
    },
    {
      "cell_type": "markdown",
      "metadata": {
        "id": "xGfJ4kDYJF0Q"
      },
      "source": [
        "# <font color=red>Seminar 1</font> \n",
        "* ### Variables\n",
        "* ### Arithmetic operations\n",
        "* ###  Strings"
      ]
    },
    {
      "cell_type": "markdown",
      "metadata": {
        "id": "fcTcrH4xJF0S"
      },
      "source": [
        "## Variables\n",
        "Variables are containers that can hold any type of data(numeric data, text data, etc.)"
      ]
    },
    {
      "cell_type": "code",
      "metadata": {
        "id": "buSMRWw6JF0S"
      },
      "source": [
        "rent = 1200\n",
        "gas = 100\n",
        "groceries = 50"
      ],
      "execution_count": null,
      "outputs": []
    },
    {
      "cell_type": "code",
      "metadata": {
        "id": "NL9oLbY_JF0U",
        "outputId": "78c71f3c-810b-4149-858b-3e33e4008af6"
      },
      "source": [
        "print(rent)"
      ],
      "execution_count": null,
      "outputs": [
        {
          "output_type": "stream",
          "text": [
            "1200\n"
          ],
          "name": "stdout"
        }
      ]
    },
    {
      "cell_type": "code",
      "metadata": {
        "id": "YUNMY0uXJF0W",
        "outputId": "391267f3-f5f4-4269-b11b-0998085e54b8"
      },
      "source": [
        "total = rent + gas +groceries \n",
        "print(total)"
      ],
      "execution_count": null,
      "outputs": [
        {
          "output_type": "stream",
          "text": [
            "1350\n"
          ],
          "name": "stdout"
        }
      ]
    },
    {
      "cell_type": "markdown",
      "metadata": {
        "id": "FH3nquwfJF0X"
      },
      "source": [
        "Variables called variables, because value in it can vary"
      ]
    },
    {
      "cell_type": "code",
      "metadata": {
        "id": "I2OFO_J9JF0X",
        "outputId": "ae08aafe-1bdf-4b75-fa18-37afb457debe"
      },
      "source": [
        "item1 = \"rent\"\n",
        "item2 = \"gas\"\n",
        "item3 = \"groceries\"\n",
        "print(\"Individual expenses:\", item1, item2, item3)"
      ],
      "execution_count": null,
      "outputs": [
        {
          "output_type": "stream",
          "text": [
            "Individual expenses: rent gas groceries\n"
          ],
          "name": "stdout"
        }
      ]
    },
    {
      "cell_type": "markdown",
      "metadata": {
        "id": "KLVxwxz9JF0Y"
      },
      "source": [
        "There is some naming conventions for naming variables, for example you cannot use True for naming variable, because True is the python key-word"
      ]
    },
    {
      "cell_type": "markdown",
      "metadata": {
        "id": "dhVqPhNBJF0Z"
      },
      "source": [
        "## Arifmetic operations"
      ]
    },
    {
      "cell_type": "code",
      "metadata": {
        "id": "Rf3ZQhcvJF0d",
        "outputId": "e39380f8-e8e9-45c3-a15d-8019ce97be94"
      },
      "source": [
        "3/4"
      ],
      "execution_count": null,
      "outputs": [
        {
          "output_type": "execute_result",
          "data": {
            "text/plain": [
              "0.75"
            ]
          },
          "metadata": {
            "tags": []
          },
          "execution_count": 16
        }
      ]
    },
    {
      "cell_type": "code",
      "metadata": {
        "id": "w4zDJ27bJF0e",
        "outputId": "c311fdb4-5601-4fb8-9c42-b05708e30c92"
      },
      "source": [
        "4*5"
      ],
      "execution_count": null,
      "outputs": [
        {
          "output_type": "execute_result",
          "data": {
            "text/plain": [
              "20"
            ]
          },
          "metadata": {
            "tags": []
          },
          "execution_count": 17
        }
      ]
    },
    {
      "cell_type": "code",
      "metadata": {
        "id": "uaDsdQWAJF0e",
        "outputId": "033f7175-e805-45d7-c73b-39bdba0f96f0"
      },
      "source": [
        "10+7"
      ],
      "execution_count": null,
      "outputs": [
        {
          "output_type": "execute_result",
          "data": {
            "text/plain": [
              "17"
            ]
          },
          "metadata": {
            "tags": []
          },
          "execution_count": 18
        }
      ]
    },
    {
      "cell_type": "code",
      "metadata": {
        "id": "UcDSnCd5JF0f",
        "outputId": "6d520bb4-f1b5-4214-8b65-89409871706b"
      },
      "source": [
        "11%2"
      ],
      "execution_count": null,
      "outputs": [
        {
          "output_type": "execute_result",
          "data": {
            "text/plain": [
              "1"
            ]
          },
          "metadata": {
            "tags": []
          },
          "execution_count": 19
        }
      ]
    },
    {
      "cell_type": "code",
      "metadata": {
        "id": "VHkDK17PJF0g",
        "outputId": "7f0f75c2-8d82-427c-8da9-08cd63b718ea"
      },
      "source": [
        "10**2"
      ],
      "execution_count": null,
      "outputs": [
        {
          "output_type": "execute_result",
          "data": {
            "text/plain": [
              "100"
            ]
          },
          "metadata": {
            "tags": []
          },
          "execution_count": 20
        }
      ]
    },
    {
      "cell_type": "markdown",
      "metadata": {
        "id": "MqLO1NXoJF0g"
      },
      "source": [
        "Simple problem: you are travelling from Bishkek to Tokmok then to Issyk-Kul. You want to know how much total distance you will be travelling."
      ]
    },
    {
      "cell_type": "code",
      "metadata": {
        "id": "X-2f0w9yJF0h",
        "outputId": "24f59789-67b0-4f14-ce8c-8ab3167ce691"
      },
      "source": [
        "bish_tok = 100\n",
        "tok_issyk = 300\n",
        "total_distance = bish_tok + tok_issyk\n",
        "speed_km = 65\n",
        "total_time = total_distance / speed_km\n",
        "print(total_distance, total_time)"
      ],
      "execution_count": null,
      "outputs": [
        {
          "output_type": "stream",
          "text": [
            "400 6.153846153846154\n"
          ],
          "name": "stdout"
        }
      ]
    },
    {
      "cell_type": "code",
      "metadata": {
        "id": "WeE3P6JHJF0h",
        "outputId": "8791da2e-1658-42e7-b18d-7b54138fc1a2"
      },
      "source": [
        "round(total_time,2)"
      ],
      "execution_count": null,
      "outputs": [
        {
          "output_type": "execute_result",
          "data": {
            "text/plain": [
              "6.15"
            ]
          },
          "metadata": {
            "tags": []
          },
          "execution_count": 22
        }
      ]
    },
    {
      "cell_type": "markdown",
      "metadata": {
        "id": "d1BOpzMRJF0i"
      },
      "source": [
        "There two types of numbers: integer ( 2,3,5,111) and float (3.4423, 23.432, 233.434)."
      ]
    },
    {
      "cell_type": "markdown",
      "metadata": {
        "id": "-ODHNoc0JF0i"
      },
      "source": [
        "## Strings\n",
        "Strings are used to store the text data.\n",
        "For example you want to store word ice cream\n"
      ]
    },
    {
      "cell_type": "code",
      "metadata": {
        "id": "hJAve4N_JF0j",
        "outputId": "d30ff4e9-bb0f-43d0-f308-ff8741e5a9fc"
      },
      "source": [
        "text = 'ice cream'\n",
        "text"
      ],
      "execution_count": null,
      "outputs": [
        {
          "output_type": "execute_result",
          "data": {
            "text/plain": [
              "'ice cream'"
            ]
          },
          "metadata": {
            "tags": []
          },
          "execution_count": 24
        }
      ]
    },
    {
      "cell_type": "markdown",
      "metadata": {
        "id": "_l3hLYrUJF0j"
      },
      "source": [
        "![title](https://github.com/IliasSuvanov/DataAnalyticsPython/blob/master/Seminar1-2/icecream.png?raw=1)"
      ]
    },
    {
      "cell_type": "code",
      "metadata": {
        "id": "8mm1BECZJF0j",
        "outputId": "727f1665-b088-4f18-c530-ac3bb96de168"
      },
      "source": [
        "text[0]"
      ],
      "execution_count": null,
      "outputs": [
        {
          "output_type": "execute_result",
          "data": {
            "text/plain": [
              "'i'"
            ]
          },
          "metadata": {
            "tags": []
          },
          "execution_count": 25
        }
      ]
    },
    {
      "cell_type": "code",
      "metadata": {
        "id": "vkbteuyjJF0k",
        "outputId": "68a62f36-1ac5-4241-8fe0-e524e673572e"
      },
      "source": [
        "text[1]"
      ],
      "execution_count": null,
      "outputs": [
        {
          "output_type": "execute_result",
          "data": {
            "text/plain": [
              "'c'"
            ]
          },
          "metadata": {
            "tags": []
          },
          "execution_count": 27
        }
      ]
    },
    {
      "cell_type": "code",
      "metadata": {
        "id": "hEyIwUgkJF0k",
        "outputId": "1c2c29ed-5a76-495a-e051-1bb8356eab49"
      },
      "source": [
        "text[2] = 'g'"
      ],
      "execution_count": null,
      "outputs": [
        {
          "output_type": "error",
          "ename": "TypeError",
          "evalue": "'str' object does not support item assignment",
          "traceback": [
            "\u001b[0;31m---------------------------------------------------------------------------\u001b[0m",
            "\u001b[0;31mTypeError\u001b[0m                                 Traceback (most recent call last)",
            "\u001b[0;32m<ipython-input-28-98612ace88a2>\u001b[0m in \u001b[0;36m<module>\u001b[0;34m\u001b[0m\n\u001b[0;32m----> 1\u001b[0;31m \u001b[0mtext\u001b[0m\u001b[0;34m[\u001b[0m\u001b[0;36m2\u001b[0m\u001b[0;34m]\u001b[0m \u001b[0;34m=\u001b[0m \u001b[0;34m'g'\u001b[0m\u001b[0;34m\u001b[0m\u001b[0;34m\u001b[0m\u001b[0m\n\u001b[0m",
            "\u001b[0;31mTypeError\u001b[0m: 'str' object does not support item assignment"
          ]
        }
      ]
    },
    {
      "cell_type": "markdown",
      "metadata": {
        "id": "LcOxV98GJF0l"
      },
      "source": [
        "Strings are immutable in python"
      ]
    },
    {
      "cell_type": "code",
      "metadata": {
        "id": "fmEoPSF9JF0l",
        "outputId": "9c18cafa-a896-4abc-d1b2-ee06f4d84ca0"
      },
      "source": [
        "text[0:3]"
      ],
      "execution_count": null,
      "outputs": [
        {
          "output_type": "execute_result",
          "data": {
            "text/plain": [
              "'ice'"
            ]
          },
          "metadata": {
            "tags": []
          },
          "execution_count": 29
        }
      ]
    },
    {
      "cell_type": "code",
      "metadata": {
        "id": "94dkGgVxJF0m",
        "outputId": "fc915a80-f3a7-4c14-d552-a7bf880f0074"
      },
      "source": [
        "text[4:9]"
      ],
      "execution_count": null,
      "outputs": [
        {
          "output_type": "execute_result",
          "data": {
            "text/plain": [
              "'cream'"
            ]
          },
          "metadata": {
            "tags": []
          },
          "execution_count": 30
        }
      ]
    },
    {
      "cell_type": "code",
      "metadata": {
        "id": "13T7PRUuJF0m",
        "outputId": "926898f3-a8e5-4bfd-bbcb-9d457e99d874"
      },
      "source": [
        "text[4:]"
      ],
      "execution_count": null,
      "outputs": [
        {
          "output_type": "execute_result",
          "data": {
            "text/plain": [
              "'cream'"
            ]
          },
          "metadata": {
            "tags": []
          },
          "execution_count": 31
        }
      ]
    },
    {
      "cell_type": "code",
      "metadata": {
        "id": "IWem81gRJF0n",
        "outputId": "6fa419c2-6159-45bf-c0a2-295f65b03696"
      },
      "source": [
        "text[:3]"
      ],
      "execution_count": null,
      "outputs": [
        {
          "output_type": "execute_result",
          "data": {
            "text/plain": [
              "'ice'"
            ]
          },
          "metadata": {
            "tags": []
          },
          "execution_count": 32
        }
      ]
    },
    {
      "cell_type": "code",
      "metadata": {
        "id": "tt2c5b-pJF0n"
      },
      "source": [
        "text = \"hello\""
      ],
      "execution_count": null,
      "outputs": []
    },
    {
      "cell_type": "code",
      "metadata": {
        "id": "RkARLvywJF0n"
      },
      "source": [
        "text = 'hello'"
      ],
      "execution_count": null,
      "outputs": []
    },
    {
      "cell_type": "code",
      "metadata": {
        "id": "Vn98dk16JF0o"
      },
      "source": [
        "text = \"let's learn python\""
      ],
      "execution_count": null,
      "outputs": []
    },
    {
      "cell_type": "markdown",
      "metadata": {
        "id": "ze2wTbr9JF0o"
      },
      "source": [
        "### Multiline strings"
      ]
    },
    {
      "cell_type": "code",
      "metadata": {
        "id": "VwifI6mTJF0o",
        "outputId": "10884d36-4b30-42b4-bacb-fd91782d99f7"
      },
      "source": [
        "adress = '''Aaly Tokombaeva \n",
        "Bishkek\n",
        "Kyrgyzstan'''\n",
        "print(adress)"
      ],
      "execution_count": null,
      "outputs": [
        {
          "output_type": "stream",
          "text": [
            "Aaly Tokombaeva \n",
            "Bishkek\n",
            "Kyrgyzstan\n"
          ],
          "name": "stdout"
        }
      ]
    },
    {
      "cell_type": "code",
      "metadata": {
        "id": "RkajiW0DJF0p",
        "outputId": "92ed14f9-edb2-4949-8fc9-47a8868aa281"
      },
      "source": [
        "adress"
      ],
      "execution_count": null,
      "outputs": [
        {
          "output_type": "execute_result",
          "data": {
            "text/plain": [
              "'Aaly Tokombaeva \\nBishkek\\nKyrgyzstan'"
            ]
          },
          "metadata": {
            "tags": []
          },
          "execution_count": 38
        }
      ]
    },
    {
      "cell_type": "code",
      "metadata": {
        "id": "zHYXK_cTJF0p",
        "outputId": "0e67fc00-5b76-4f8e-df97-15e4140e00fb"
      },
      "source": [
        "s1 = \"hello\"\n",
        "s2 = \"world\"\n",
        "s3 = s1 + s2\n",
        "print(s3)"
      ],
      "execution_count": null,
      "outputs": [
        {
          "output_type": "stream",
          "text": [
            "helloworld\n"
          ],
          "name": "stdout"
        }
      ]
    },
    {
      "cell_type": "code",
      "metadata": {
        "id": "HE_9Pl04JF0p",
        "outputId": "9444dae8-0771-4a2a-92ba-3d4364ff0858"
      },
      "source": [
        "s = \"total number of states in Kyrgyzstan #\"\n",
        "num = 7\n",
        "s + num"
      ],
      "execution_count": null,
      "outputs": [
        {
          "output_type": "error",
          "ename": "TypeError",
          "evalue": "can only concatenate str (not \"int\") to str",
          "traceback": [
            "\u001b[0;31m---------------------------------------------------------------------------\u001b[0m",
            "\u001b[0;31mTypeError\u001b[0m                                 Traceback (most recent call last)",
            "\u001b[0;32m<ipython-input-41-eee5d9e49631>\u001b[0m in \u001b[0;36m<module>\u001b[0;34m\u001b[0m\n\u001b[1;32m      1\u001b[0m \u001b[0ms\u001b[0m \u001b[0;34m=\u001b[0m \u001b[0;34m\"total number of states in Kyrgyzstan #\"\u001b[0m\u001b[0;34m\u001b[0m\u001b[0;34m\u001b[0m\u001b[0m\n\u001b[1;32m      2\u001b[0m \u001b[0mnum\u001b[0m \u001b[0;34m=\u001b[0m \u001b[0;36m7\u001b[0m\u001b[0;34m\u001b[0m\u001b[0;34m\u001b[0m\u001b[0m\n\u001b[0;32m----> 3\u001b[0;31m \u001b[0ms\u001b[0m \u001b[0;34m+\u001b[0m \u001b[0mnum\u001b[0m\u001b[0;34m\u001b[0m\u001b[0;34m\u001b[0m\u001b[0m\n\u001b[0m",
            "\u001b[0;31mTypeError\u001b[0m: can only concatenate str (not \"int\") to str"
          ]
        }
      ]
    },
    {
      "cell_type": "code",
      "metadata": {
        "id": "T3wcBWrSJF0q",
        "outputId": "00bf0da3-12fb-499e-cfce-2ea7e5cd099a"
      },
      "source": [
        "str(num)"
      ],
      "execution_count": null,
      "outputs": [
        {
          "output_type": "execute_result",
          "data": {
            "text/plain": [
              "'7'"
            ]
          },
          "metadata": {
            "tags": []
          },
          "execution_count": 42
        }
      ]
    },
    {
      "cell_type": "code",
      "metadata": {
        "id": "IaFTV12FJF0q",
        "outputId": "0c1fff08-7f44-48bf-f1dc-d0f17edd279a"
      },
      "source": [
        "s+str(num)"
      ],
      "execution_count": null,
      "outputs": [
        {
          "output_type": "execute_result",
          "data": {
            "text/plain": [
              "'total number of states in Kyrgyzstan #7'"
            ]
          },
          "metadata": {
            "tags": []
          },
          "execution_count": 43
        }
      ]
    },
    {
      "cell_type": "markdown",
      "metadata": {
        "id": "797xiLoSJF0r"
      },
      "source": [
        "## <font color = red> Seminar 2</font>\n",
        "\n",
        "\n",
        "* #### List, Dictionary and Sets in Python\n",
        "* #### Python rules on how to write code \n",
        "* #### If statement examples\n",
        "* ####  For loop statement examples\n",
        "\n",
        "___"
      ]
    },
    {
      "cell_type": "markdown",
      "metadata": {
        "id": "OFLiavoxJF0r"
      },
      "source": [
        "## What is List, Dictionary and Sets\n",
        "<img src=\"https://github.com/IliasSuvanov/DataAnalyticsPython/blob/master/Seminar1-2/materials.jpg?raw=1\" alt=\"Drawing\" style=\"width: 200px;\"/> ----> \n",
        "<img src=\"https://github.com/IliasSuvanov/DataAnalyticsPython/blob/master/Seminar1-2/house.jpeg?raw=1\" alt=\"Drawing\" style=\"width: 200px;\"/>\n",
        "\n",
        "### List \n",
        "A **list** is a **collection of arbitrary objects**. List defined by square brackets."
      ]
    },
    {
      "cell_type": "code",
      "metadata": {
        "id": "ASqOjlj3JF0r"
      },
      "source": [
        "fruits = ['orange', 'apple', 'pear', 'banana', 'kiwi', 'apple', 'banana']"
      ],
      "execution_count": null,
      "outputs": []
    },
    {
      "cell_type": "code",
      "metadata": {
        "id": "y1vsHsbYJF0s",
        "outputId": "6c33f5a5-328e-4d0e-8fef-00905beac568"
      },
      "source": [
        "fruits.count('apple')"
      ],
      "execution_count": null,
      "outputs": [
        {
          "output_type": "execute_result",
          "data": {
            "text/plain": [
              "2"
            ]
          },
          "metadata": {
            "tags": []
          },
          "execution_count": 28
        }
      ]
    },
    {
      "cell_type": "code",
      "metadata": {
        "id": "uNVgmauFJF0s",
        "outputId": "21034d3b-a887-47c1-df35-8a2d3ad713b8"
      },
      "source": [
        "fruits.count('mandarin')"
      ],
      "execution_count": null,
      "outputs": [
        {
          "output_type": "execute_result",
          "data": {
            "text/plain": [
              "0"
            ]
          },
          "metadata": {
            "tags": []
          },
          "execution_count": 29
        }
      ]
    },
    {
      "cell_type": "code",
      "metadata": {
        "id": "0vqZ7cwOJF0s",
        "outputId": "21fe9da8-28c1-4baf-952f-cb3bbcae6581"
      },
      "source": [
        "fruits.index('banana')"
      ],
      "execution_count": null,
      "outputs": [
        {
          "output_type": "execute_result",
          "data": {
            "text/plain": [
              "3"
            ]
          },
          "metadata": {
            "tags": []
          },
          "execution_count": 4
        }
      ]
    },
    {
      "cell_type": "code",
      "metadata": {
        "id": "5XpZWQ_SJF0t",
        "outputId": "12654798-2c8c-4efd-bc49-f7ef6b343a98"
      },
      "source": [
        "fruits.index('banana', 4)  # Find next banana starting a position 4"
      ],
      "execution_count": null,
      "outputs": [
        {
          "output_type": "execute_result",
          "data": {
            "text/plain": [
              "6"
            ]
          },
          "metadata": {
            "tags": []
          },
          "execution_count": 5
        }
      ]
    },
    {
      "cell_type": "code",
      "metadata": {
        "id": "eCkqYn6KJF0t",
        "outputId": "2dd0ebe5-34ad-4d2e-8fba-647d3981a878"
      },
      "source": [
        "fruits.reverse()\n",
        "fruits"
      ],
      "execution_count": null,
      "outputs": [
        {
          "output_type": "execute_result",
          "data": {
            "text/plain": [
              "['orange', 'apple', 'pear', 'banana', 'kiwi', 'apple', 'banana']"
            ]
          },
          "metadata": {
            "tags": []
          },
          "execution_count": 7
        }
      ]
    },
    {
      "cell_type": "code",
      "metadata": {
        "id": "PlWwZM8LJF0u",
        "outputId": "1cc5fda8-3954-496f-f5fb-d416a30e86fe"
      },
      "source": [
        "fruits.append('grape')\n",
        "fruits"
      ],
      "execution_count": null,
      "outputs": [
        {
          "output_type": "execute_result",
          "data": {
            "text/plain": [
              "['orange', 'apple', 'pear', 'banana', 'kiwi', 'apple', 'banana', 'grape']"
            ]
          },
          "metadata": {
            "tags": []
          },
          "execution_count": 8
        }
      ]
    },
    {
      "cell_type": "code",
      "metadata": {
        "id": "axJMGtJWJF0u",
        "outputId": "e7370c2a-0294-45bf-bf59-1021ef8e7578"
      },
      "source": [
        "fruits.sort() #will sort in alphabetic order\n",
        "fruits"
      ],
      "execution_count": null,
      "outputs": [
        {
          "output_type": "execute_result",
          "data": {
            "text/plain": [
              "['apple', 'apple', 'banana', 'banana', 'grape', 'kiwi', 'orange', 'pear']"
            ]
          },
          "metadata": {
            "tags": []
          },
          "execution_count": 9
        }
      ]
    },
    {
      "cell_type": "code",
      "metadata": {
        "id": "JHoWXBCLJF0u",
        "outputId": "670e1337-e85b-4019-c3fd-e074aef6b99e"
      },
      "source": [
        "fruits.pop()"
      ],
      "execution_count": null,
      "outputs": [
        {
          "output_type": "execute_result",
          "data": {
            "text/plain": [
              "['orange', 'apple', 'pear', 'banana', 'kiwi', 'apple']"
            ]
          },
          "metadata": {
            "tags": []
          },
          "execution_count": 31
        }
      ]
    },
    {
      "cell_type": "markdown",
      "metadata": {
        "id": "rvV7AZJoJF0v"
      },
      "source": [
        "# Dictionary\n",
        "A dictionary as a set of key: value pairs.\n",
        "<img src=\"https://github.com/IliasSuvanov/DataAnalyticsPython/blob/master/Seminar1-2/phone.jpg?raw=1\" alt=\"Drawing\" style=\"width: 200px;\"/>"
      ]
    },
    {
      "cell_type": "code",
      "metadata": {
        "id": "FodfevllJF0v"
      },
      "source": [
        "tel = {'jack': 4098, 'alex': 4139}"
      ],
      "execution_count": null,
      "outputs": []
    },
    {
      "cell_type": "code",
      "metadata": {
        "id": "q7D938pUJF0w",
        "outputId": "33d53e67-0942-4b1f-b8a8-9ab317a33d77"
      },
      "source": [
        "tel['guido'] = 4127\n",
        "tel"
      ],
      "execution_count": null,
      "outputs": [
        {
          "output_type": "execute_result",
          "data": {
            "text/plain": [
              "{'jack': 4098, 'alex': 4139, 'guido': 4127}"
            ]
          },
          "metadata": {
            "tags": []
          },
          "execution_count": 39
        }
      ]
    },
    {
      "cell_type": "code",
      "metadata": {
        "id": "f6DoELo1JF0w",
        "outputId": "c9833331-7c70-4480-beeb-b439281169c0"
      },
      "source": [
        "tel['jack']"
      ],
      "execution_count": null,
      "outputs": [
        {
          "output_type": "execute_result",
          "data": {
            "text/plain": [
              "4098"
            ]
          },
          "metadata": {
            "tags": []
          },
          "execution_count": 40
        }
      ]
    },
    {
      "cell_type": "code",
      "metadata": {
        "id": "_64pISVOJF0x"
      },
      "source": [
        "del tel['alex']"
      ],
      "execution_count": null,
      "outputs": []
    },
    {
      "cell_type": "code",
      "metadata": {
        "id": "Ppm5O7-iJF0x"
      },
      "source": [
        "tel['ivan'] = 4127"
      ],
      "execution_count": null,
      "outputs": []
    },
    {
      "cell_type": "code",
      "metadata": {
        "id": "f18RmXtsJF0y",
        "outputId": "28d5968f-7d7f-4bb9-f6cd-cefb14b66717"
      },
      "source": [
        "tel"
      ],
      "execution_count": null,
      "outputs": [
        {
          "output_type": "execute_result",
          "data": {
            "text/plain": [
              "{'jack': 4098, 'guido': 4127, 'ivan': 4127}"
            ]
          },
          "metadata": {
            "tags": []
          },
          "execution_count": 43
        }
      ]
    },
    {
      "cell_type": "code",
      "metadata": {
        "id": "XmGV89k1JF0z",
        "outputId": "e4b26234-56b2-42e6-cc70-861716865d9c"
      },
      "source": [
        "list(tel)"
      ],
      "execution_count": null,
      "outputs": [
        {
          "output_type": "execute_result",
          "data": {
            "text/plain": [
              "['jack', 'guido', 'ivan']"
            ]
          },
          "metadata": {
            "tags": []
          },
          "execution_count": 44
        }
      ]
    },
    {
      "cell_type": "code",
      "metadata": {
        "id": "NrRrMt68JF0z",
        "outputId": "41f28a36-9b59-419f-a409-4a0e32e15fce"
      },
      "source": [
        "sorted(tel)"
      ],
      "execution_count": null,
      "outputs": [
        {
          "output_type": "execute_result",
          "data": {
            "text/plain": [
              "['guido', 'ivan', 'jack']"
            ]
          },
          "metadata": {
            "tags": []
          },
          "execution_count": 45
        }
      ]
    },
    {
      "cell_type": "code",
      "metadata": {
        "id": "iPxjfnALJF00",
        "outputId": "80176f3b-9a9d-41af-e06e-0941dd54d8cd"
      },
      "source": [
        "'guido' in tel"
      ],
      "execution_count": null,
      "outputs": [
        {
          "output_type": "execute_result",
          "data": {
            "text/plain": [
              "True"
            ]
          },
          "metadata": {
            "tags": []
          },
          "execution_count": 46
        }
      ]
    },
    {
      "cell_type": "code",
      "metadata": {
        "id": "OZg0wjamJF01",
        "outputId": "b86b15bd-aca2-4782-c4d7-53435116013a"
      },
      "source": [
        "'jack' not in tel"
      ],
      "execution_count": null,
      "outputs": [
        {
          "output_type": "execute_result",
          "data": {
            "text/plain": [
              "False"
            ]
          },
          "metadata": {
            "tags": []
          },
          "execution_count": 47
        }
      ]
    },
    {
      "cell_type": "markdown",
      "metadata": {
        "id": "uVYwKaRkJF01"
      },
      "source": [
        "# Sets\n",
        "A __set__ is an unordered collection with no duplicate elements. Basic uses include membership testing and eliminating duplicate entries."
      ]
    },
    {
      "cell_type": "code",
      "metadata": {
        "id": "Hvv_rhFkJF02"
      },
      "source": [
        "basket = {'apple', 'orange', 'apple', 'pear', 'orange', 'banana'}"
      ],
      "execution_count": null,
      "outputs": []
    },
    {
      "cell_type": "code",
      "metadata": {
        "id": "kKCr3gnZJF02",
        "outputId": "6aa0323b-a38e-44e6-8a4b-8849ec89c94a"
      },
      "source": [
        "print(basket)  # show that duplicates have been removed"
      ],
      "execution_count": null,
      "outputs": [
        {
          "output_type": "stream",
          "text": [
            "{'banana', 'apple', 'pear', 'orange'}\n"
          ],
          "name": "stdout"
        }
      ]
    },
    {
      "cell_type": "code",
      "metadata": {
        "id": "2-V7TWWiJF03",
        "outputId": "5b82b887-9943-4223-a9f2-d28c22737808"
      },
      "source": [
        "'orange' in basket "
      ],
      "execution_count": null,
      "outputs": [
        {
          "output_type": "execute_result",
          "data": {
            "text/plain": [
              "True"
            ]
          },
          "metadata": {
            "tags": []
          },
          "execution_count": 88
        }
      ]
    },
    {
      "cell_type": "code",
      "metadata": {
        "id": "qIwQEsrnJF03",
        "outputId": "6f0ff5e8-5f42-40cb-aee9-37d0f693ee15"
      },
      "source": [
        "'crabgrass' in basket"
      ],
      "execution_count": null,
      "outputs": [
        {
          "output_type": "execute_result",
          "data": {
            "text/plain": [
              "False"
            ]
          },
          "metadata": {
            "tags": []
          },
          "execution_count": 89
        }
      ]
    },
    {
      "cell_type": "code",
      "metadata": {
        "id": "2RkssmxYJF04"
      },
      "source": [
        "a = set('abracadabra')\n",
        "b = set('alacazam')"
      ],
      "execution_count": null,
      "outputs": []
    },
    {
      "cell_type": "code",
      "metadata": {
        "id": "shlP6IS0JF04",
        "outputId": "62727757-84c0-4da2-ebe1-4ef08433525a"
      },
      "source": [
        "a "
      ],
      "execution_count": null,
      "outputs": [
        {
          "output_type": "execute_result",
          "data": {
            "text/plain": [
              "{'a', 'b', 'c', 'd', 'r'}"
            ]
          },
          "metadata": {
            "tags": []
          },
          "execution_count": 91
        }
      ]
    },
    {
      "cell_type": "code",
      "metadata": {
        "id": "zlSzx427JF05",
        "outputId": "f5f7f6b8-0ef8-4499-997e-ba9e9c3c58ef"
      },
      "source": [
        "a - b "
      ],
      "execution_count": null,
      "outputs": [
        {
          "output_type": "execute_result",
          "data": {
            "text/plain": [
              "{'b', 'd', 'r'}"
            ]
          },
          "metadata": {
            "tags": []
          },
          "execution_count": 92
        }
      ]
    },
    {
      "cell_type": "code",
      "metadata": {
        "id": "Hs7-mWyzJF05",
        "outputId": "57733e85-f7fe-42e1-e162-51918d36b842"
      },
      "source": [
        "a & b "
      ],
      "execution_count": null,
      "outputs": [
        {
          "output_type": "execute_result",
          "data": {
            "text/plain": [
              "{'a', 'c'}"
            ]
          },
          "metadata": {
            "tags": []
          },
          "execution_count": 93
        }
      ]
    },
    {
      "cell_type": "markdown",
      "metadata": {
        "id": "n-1N5gnwJF06"
      },
      "source": [
        "## Python rules on how to write code\n",
        "\n",
        "* Indentation refers to the spaces at the beginning of a code line.\n",
        "\n",
        "* Python uses indentation to indicate a block of code."
      ]
    },
    {
      "cell_type": "code",
      "metadata": {
        "id": "qGMs3F_ZJF06",
        "outputId": "b2996d2e-76a2-4135-a238-5f8da6d201fa"
      },
      "source": [
        "if 5 > 2:\n",
        "    print(\"Five is greater than two!\")"
      ],
      "execution_count": null,
      "outputs": [
        {
          "output_type": "stream",
          "text": [
            "Five is greater than two!\n"
          ],
          "name": "stdout"
        }
      ]
    },
    {
      "cell_type": "markdown",
      "metadata": {
        "id": "VUZFa0kCJF07"
      },
      "source": [
        "Where in other programming languages the indentation in code is for readability only, the indentation in Python is very important."
      ]
    },
    {
      "cell_type": "code",
      "metadata": {
        "id": "9uj5V5t7JF07",
        "outputId": "03b4dcf0-dbbf-4327-de4f-ae9c3774e31e"
      },
      "source": [
        "if 5>2:\n",
        "print(\"Five greater than two\")"
      ],
      "execution_count": null,
      "outputs": [
        {
          "output_type": "error",
          "ename": "IndentationError",
          "evalue": "expected an indented block (<ipython-input-2-897cbefb77f5>, line 2)",
          "traceback": [
            "\u001b[0;36m  File \u001b[0;32m\"<ipython-input-2-897cbefb77f5>\"\u001b[0;36m, line \u001b[0;32m2\u001b[0m\n\u001b[0;31m    print(\"Five greater than two\")\u001b[0m\n\u001b[0m        ^\u001b[0m\n\u001b[0;31mIndentationError\u001b[0m\u001b[0;31m:\u001b[0m expected an indented block\n"
          ]
        }
      ]
    },
    {
      "cell_type": "markdown",
      "metadata": {
        "id": "lWo0mZKxJF08"
      },
      "source": [
        "### Prejudice Survey\n",
        "***\n",
        "> * Are you asian american?\n",
        "> > * Have you exeprienced prejudices towards you after covid-19 epidemics?\n",
        "___\n",
        "> * Are you african american?\n",
        "> > * Have you experienced unjustified stop check?\n",
        "___\n",
        "> * Else, please specify what prejudicies you have experienced\n",
        "\n",
        "---"
      ]
    },
    {
      "cell_type": "markdown",
      "metadata": {
        "id": "nBTEPJHJJF08"
      },
      "source": [
        "### Diagram\n",
        "\n",
        "<img src=\"https://github.com/IliasSuvanov/DataAnalyticsPython/blob/master/Seminar1-2/code_blocks.png?raw=1\">\n",
        "\n",
        "___\n",
        "___"
      ]
    },
    {
      "cell_type": "markdown",
      "metadata": {
        "id": "PNoNOWeGJF08"
      },
      "source": [
        "## IF statement"
      ]
    },
    {
      "cell_type": "markdown",
      "metadata": {
        "id": "DGR8bhn5JF09"
      },
      "source": [
        "\n",
        "### <font color= red>IF</font> \n",
        "<img src=\"https://github.com/IliasSuvanov/DataAnalyticsPython/blob/master/Seminar1-2/fast_foods.png?raw=1\"> \n",
        "###  <font color= red>--->>></font> \n",
        "\n",
        "<img src=\"https://github.com/IliasSuvanov/DataAnalyticsPython/blob/master/Seminar1-2/gym.png?raw=1\">\n",
        "\n",
        "###  <font color= red> ELSE</font> \n",
        "<img src=\"https://github.com/IliasSuvanov/DataAnalyticsPython/blob/master/Seminar1-2/relax.png?raw=1\">"
      ]
    },
    {
      "cell_type": "markdown",
      "metadata": {
        "id": "McUjvxgoJF09"
      },
      "source": [
        "### Health Survey \n",
        "<img src=\"https://github.com/IliasSuvanov/DataAnalyticsPython/blob/master/Seminar1-2/Health_Survey.png?raw=1\">\n",
        "\n",
        "***"
      ]
    },
    {
      "cell_type": "code",
      "metadata": {
        "id": "Rpf5Ys2GJF09",
        "outputId": "9bc437c4-017e-4088-f329-f8f1aa90a773"
      },
      "source": [
        "a = input()\n",
        "b = input()\n",
        "if b > a:\n",
        "    print(\"b is greater than a\")\n",
        "else: \n",
        "    print(\"b is smaller than a\")"
      ],
      "execution_count": null,
      "outputs": [
        {
          "output_type": "stream",
          "text": [
            "10\n",
            "14\n",
            "b is greater than a\n"
          ],
          "name": "stdout"
        }
      ]
    },
    {
      "cell_type": "code",
      "metadata": {
        "id": "cpbD-OtIJF0-"
      },
      "source": [
        "heartbeat_rate = input(\"Please enter heartbeat rate:\")\n",
        "heartbeat_rate = int(heartbeat_rate)"
      ],
      "execution_count": null,
      "outputs": []
    },
    {
      "cell_type": "code",
      "metadata": {
        "id": "ROg_mepCJF0-"
      },
      "source": [
        "if heartbeat_rate => 60 and heartbeat_rate <= 90:\n",
        "    print(\"Everything is ok\")\n",
        "elif heartbeat_rate < 60 and heartbeat_rate >0 :\n",
        "    print(\"Please visit your doctor immediately, too low hb\")\n",
        "elif heartbeat_rate > 90 and heartbeat_rate <140 :\n",
        "    print(\"Please visit your doctor immediately, too high hb\")\n",
        "else: \n",
        "    print(\"Please enter right value\")"
      ],
      "execution_count": null,
      "outputs": []
    },
    {
      "cell_type": "code",
      "metadata": {
        "id": "a4iulTfIJF0-",
        "outputId": "21d4ba6f-9ad2-4b9f-a343-81176d1660b5"
      },
      "source": [
        "japanese_cars = [\"toyota\", \"honda\"]\n",
        "german_cars = [\"mercedes\", \"audi\", \"bmw\"]\n",
        "usa_cars = [\"ford\", \"GM\"]\n",
        "car_name = input(\"Please enter car name:\")"
      ],
      "execution_count": null,
      "outputs": [
        {
          "output_type": "stream",
          "text": [
            "Please enter car name:toy\n"
          ],
          "name": "stdout"
        }
      ]
    },
    {
      "cell_type": "code",
      "metadata": {
        "id": "xItxPruPJF0_",
        "outputId": "a000e424-711b-4aa1-e4a9-626f5167f80d"
      },
      "source": [
        "if car_name in japanese_cars:\n",
        "    print(\"The car is Japanese\")\n",
        "if car_name in german_cars:\n",
        "    print(\"The car is German\")\n",
        "if car_name in usa_cars :\n",
        "    print(\"The car is American\")\n",
        "else: \n",
        "    print(\"Not known\")"
      ],
      "execution_count": null,
      "outputs": [
        {
          "output_type": "stream",
          "text": [
            "Not known\n"
          ],
          "name": "stdout"
        }
      ]
    },
    {
      "cell_type": "markdown",
      "metadata": {
        "id": "3RfQmNL2JF0_"
      },
      "source": [
        "Write a programm that ask user to enter the number, then the program should print whether the number is odd or even."
      ]
    },
    {
      "cell_type": "code",
      "metadata": {
        "id": "yZXEHDS2JF1A",
        "outputId": "ddcaf608-dca8-4827-d4e8-f0c3c65e7600"
      },
      "source": [
        "num = input(\"Enter a number:\")\n",
        "num = int(num)"
      ],
      "execution_count": null,
      "outputs": [
        {
          "output_type": "stream",
          "text": [
            "Enter a number:3\n"
          ],
          "name": "stdout"
        }
      ]
    },
    {
      "cell_type": "code",
      "metadata": {
        "id": "MOeUuN0NJF1A",
        "outputId": "518b3b7c-69e3-4fe5-b657-6c96000f0311"
      },
      "source": [
        "if num%2 == 0:\n",
        "    print(\"the number is even\")\n",
        "else:\n",
        "    print(\"the number is odd\")"
      ],
      "execution_count": null,
      "outputs": [
        {
          "output_type": "stream",
          "text": [
            "the number is odd\n"
          ],
          "name": "stdout"
        }
      ]
    },
    {
      "cell_type": "code",
      "metadata": {
        "id": "wOFlbtudJF1B",
        "outputId": "d589b804-17c0-4a68-88b3-137d03d52ee0"
      },
      "source": [
        "num%2 == 0"
      ],
      "execution_count": null,
      "outputs": [
        {
          "output_type": "execute_result",
          "data": {
            "text/plain": [
              "False"
            ]
          },
          "metadata": {
            "tags": []
          },
          "execution_count": 47
        }
      ]
    },
    {
      "cell_type": "code",
      "metadata": {
        "id": "w7R8Y1vVJF1B",
        "outputId": "d222b8fa-0956-4235-8f28-528689667319"
      },
      "source": [
        "4 == 4"
      ],
      "execution_count": null,
      "outputs": [
        {
          "output_type": "execute_result",
          "data": {
            "text/plain": [
              "True"
            ]
          },
          "metadata": {
            "tags": []
          },
          "execution_count": 49
        }
      ]
    },
    {
      "cell_type": "code",
      "metadata": {
        "id": "3BwohXvtJF1C",
        "outputId": "bd008ac4-95bf-4faf-8d9e-7f1d52b5f71d"
      },
      "source": [
        "4 != 4"
      ],
      "execution_count": null,
      "outputs": [
        {
          "output_type": "execute_result",
          "data": {
            "text/plain": [
              "False"
            ]
          },
          "metadata": {
            "tags": []
          },
          "execution_count": 50
        }
      ]
    },
    {
      "cell_type": "code",
      "metadata": {
        "id": "GFR7TSswJF1C",
        "outputId": "49a3abd6-2b97-4783-dcdf-6c8ec3355e56"
      },
      "source": [
        "2 > 3"
      ],
      "execution_count": null,
      "outputs": [
        {
          "output_type": "execute_result",
          "data": {
            "text/plain": [
              "False"
            ]
          },
          "metadata": {
            "tags": []
          },
          "execution_count": 51
        }
      ]
    },
    {
      "cell_type": "code",
      "metadata": {
        "id": "jhRO6ZvhJF1D",
        "outputId": "df1f6eb1-a83d-4a45-e7b5-9cbd42f54d32"
      },
      "source": [
        "2 <= 3"
      ],
      "execution_count": null,
      "outputs": [
        {
          "output_type": "execute_result",
          "data": {
            "text/plain": [
              "True"
            ]
          },
          "metadata": {
            "tags": []
          },
          "execution_count": 52
        }
      ]
    },
    {
      "cell_type": "code",
      "metadata": {
        "id": "Rf0nL_xHJF1E",
        "outputId": "232478bb-48da-431f-d394-78e1651eae4d"
      },
      "source": [
        "3 > 2 and 4 > 1"
      ],
      "execution_count": null,
      "outputs": [
        {
          "output_type": "execute_result",
          "data": {
            "text/plain": [
              "True"
            ]
          },
          "metadata": {
            "tags": []
          },
          "execution_count": 53
        }
      ]
    },
    {
      "cell_type": "code",
      "metadata": {
        "id": "2k9qbpGJJF1E",
        "outputId": "f3826dfc-1684-4a4e-ada0-5a31e15998d4"
      },
      "source": [
        "3 > 2 and 4 < 1"
      ],
      "execution_count": null,
      "outputs": [
        {
          "output_type": "execute_result",
          "data": {
            "text/plain": [
              "False"
            ]
          },
          "metadata": {
            "tags": []
          },
          "execution_count": 54
        }
      ]
    },
    {
      "cell_type": "code",
      "metadata": {
        "id": "fws-3LbwJF1F",
        "outputId": "6d94f0a6-4b7f-4ac1-e11e-19136454295a"
      },
      "source": [
        "3 > 2 or 4 > 1"
      ],
      "execution_count": null,
      "outputs": [
        {
          "output_type": "execute_result",
          "data": {
            "text/plain": [
              "True"
            ]
          },
          "metadata": {
            "tags": []
          },
          "execution_count": 55
        }
      ]
    },
    {
      "cell_type": "code",
      "metadata": {
        "id": "egvhL-oOJF1F",
        "outputId": "f991b29d-63f6-4c2e-c60c-675b20752158"
      },
      "source": [
        "3 > 2 or 4 < 1"
      ],
      "execution_count": null,
      "outputs": [
        {
          "output_type": "execute_result",
          "data": {
            "text/plain": [
              "True"
            ]
          },
          "metadata": {
            "tags": []
          },
          "execution_count": 56
        }
      ]
    },
    {
      "cell_type": "code",
      "metadata": {
        "id": "ttFUqR57JF1F",
        "outputId": "fda9f471-6d07-44e8-d08e-28df7ff5d5b8"
      },
      "source": [
        "not True"
      ],
      "execution_count": null,
      "outputs": [
        {
          "output_type": "execute_result",
          "data": {
            "text/plain": [
              "False"
            ]
          },
          "metadata": {
            "tags": []
          },
          "execution_count": 57
        }
      ]
    },
    {
      "cell_type": "code",
      "metadata": {
        "id": "i47ch9yKJF1G",
        "outputId": "045a6f25-9abd-4256-b3c6-1fb17f976a85"
      },
      "source": [
        "not 4==4"
      ],
      "execution_count": null,
      "outputs": [
        {
          "output_type": "execute_result",
          "data": {
            "text/plain": [
              "False"
            ]
          },
          "metadata": {
            "tags": []
          },
          "execution_count": 58
        }
      ]
    },
    {
      "cell_type": "markdown",
      "metadata": {
        "id": "h96nn3-AJF1G"
      },
      "source": [
        "A programm ask user to enter a city name and it should print to which country this city belongs."
      ]
    },
    {
      "cell_type": "code",
      "metadata": {
        "id": "FPFr4BeRJF1H"
      },
      "source": [
        "Kyrgyzstan = ['Bishkek', 'Tokmok', 'Djalal-Abad']\n",
        "Uzbekistan = ['Tashkent', 'Samarkand', 'Buhara']\n",
        "Kazakhstan = ['Almaty', 'Shymkent', 'Nur-Sultan']"
      ],
      "execution_count": null,
      "outputs": []
    },
    {
      "cell_type": "code",
      "metadata": {
        "id": "IwzCWgyzJF1H",
        "outputId": "a09fa638-5930-417a-99e0-79bc1ab20f1d"
      },
      "source": [
        "city = input(\"Enter city name: \")\n",
        "if city in Kyrgyzstan:\n",
        "    print(city, \"is in Kyrgyzstan\")\n",
        "elif city in Uzbekistan:\n",
        "    print(city, \"is in Uzbekistan\")\n",
        "elif city in Kazakhstan:\n",
        "    print(city, \"is in Kazakhstan\")\n",
        "else:\n",
        "    print(\"Sorry I don't whether this is city located\")"
      ],
      "execution_count": null,
      "outputs": [
        {
          "output_type": "stream",
          "text": [
            "Enter city name: Bishkek\n",
            "Bishkek is in Kyrgyzstan\n"
          ],
          "name": "stdout"
        }
      ]
    },
    {
      "cell_type": "markdown",
      "metadata": {
        "id": "wXnaSb1uJF1H"
      },
      "source": [
        "## For Loop Statement\n",
        "A __for__ loop is used for iterating over a sequence (that is either a list, a tuple, a dictionary, a set, or a string).\n",
        "\n",
        "With the __for__ loop we can execute a set of statements, once for each item in a list, tuple, set etc."
      ]
    },
    {
      "cell_type": "markdown",
      "metadata": {
        "id": "HYACLJ_8JF1I"
      },
      "source": [
        "Les's compute total expenditure for groceriecs from January to May"
      ]
    },
    {
      "cell_type": "code",
      "metadata": {
        "id": "ZuIpTRqQJF1I",
        "outputId": "6edc927a-d14a-4c93-d6f7-c11dff10a5d0"
      },
      "source": [
        "exp = [100, 200, 150 ,300, 400, 300]\n",
        "#Without for loop to compute total expenditure is cumbersome\n",
        "total = exp[0] + exp[1] + exp[2] + exp[3]+exp[4]+ exp[5]\n",
        "print(total)"
      ],
      "execution_count": null,
      "outputs": [
        {
          "output_type": "stream",
          "text": [
            "1450\n"
          ],
          "name": "stdout"
        }
      ]
    },
    {
      "cell_type": "code",
      "metadata": {
        "id": "tgN6mSbHJF1I",
        "outputId": "155bdaf1-53b1-41f4-af61-24e7c2d04c21"
      },
      "source": [
        "exp = [100, 200, 150 ,300, 400, 300]\n",
        "total = 0\n",
        "\n",
        "for i in exp:\n",
        "    total = total + i\n",
        "\n",
        "print(total)"
      ],
      "execution_count": null,
      "outputs": [
        {
          "output_type": "stream",
          "text": [
            "750\n"
          ],
          "name": "stdout"
        }
      ]
    },
    {
      "cell_type": "markdown",
      "metadata": {
        "id": "KfVC4J8LJF1J"
      },
      "source": [
        "![title](https://github.com/IliasSuvanov/DataAnalyticsPython/blob/master/Seminar1-2/diagram.png?raw=1)"
      ]
    },
    {
      "cell_type": "code",
      "metadata": {
        "id": "2MKIEQbbJF1J",
        "outputId": "447fa27e-c1ba-4092-cea6-9a2c1ea41c99"
      },
      "source": [
        "for i in range(1,11):\n",
        "    print(i)\n",
        "    \n",
        "# range can also accept negative step"
      ],
      "execution_count": null,
      "outputs": [
        {
          "output_type": "stream",
          "text": [
            "1\n",
            "2\n",
            "3\n",
            "4\n",
            "5\n",
            "6\n",
            "7\n",
            "8\n",
            "9\n",
            "10\n"
          ],
          "name": "stdout"
        }
      ]
    },
    {
      "cell_type": "code",
      "metadata": {
        "id": "c3wHY7QbJF1K",
        "outputId": "1bc6520d-8840-4a24-994a-f161fea9103b"
      },
      "source": [
        "for i in range(len(exp)):\n",
        "    print(\"Your month: \", (i+1), \"Expenses\", exp[i])"
      ],
      "execution_count": null,
      "outputs": [
        {
          "output_type": "stream",
          "text": [
            "Your month:  1 Expenses 100\n",
            "Your month:  2 Expenses 200\n",
            "Your month:  3 Expenses 150\n",
            "Your month:  4 Expenses 300\n"
          ],
          "name": "stdout"
        }
      ]
    },
    {
      "cell_type": "code",
      "metadata": {
        "id": "dCggDPAcJF1K",
        "outputId": "c6e50b23-13f3-450c-9e15-6aa5662567c9"
      },
      "source": [
        "list_of_reservations = [\"Mike\", \"Jack\", \"Patrick\", \"Stacty\", \"Jessica\"]\n",
        "for person in list_of_reservations:\n",
        "    if person == \"Patrick\":\n",
        "        print(\"Patric can come in\")\n",
        "        break\n",
        "    else:\n",
        "        print(person,\"is not Patric\")"
      ],
      "execution_count": null,
      "outputs": [
        {
          "output_type": "stream",
          "text": [
            "Mike is not Patric\n",
            "Jack is not Patric\n",
            "Patric can come in\n"
          ],
          "name": "stdout"
        }
      ]
    },
    {
      "cell_type": "code",
      "metadata": {
        "id": "JiDc6wPeJF1K",
        "outputId": "d02d6de5-744c-4130-a9b2-414820102f43"
      },
      "source": [
        "for i in range(10):\n",
        "    if i%2==0:\n",
        "        continue\n",
        "    else:\n",
        "        print(i)"
      ],
      "execution_count": null,
      "outputs": [
        {
          "output_type": "stream",
          "text": [
            "1\n",
            "3\n",
            "5\n",
            "7\n",
            "9\n"
          ],
          "name": "stdout"
        }
      ]
    },
    {
      "cell_type": "code",
      "metadata": {
        "id": "39WzoxDJJF1L",
        "outputId": "369ec5b5-dd98-448f-a6da-7289c4406e98"
      },
      "source": [
        "i = 1\n",
        "while i<=10:\n",
        "    print(i)\n",
        "    i = i + 1"
      ],
      "execution_count": null,
      "outputs": [
        {
          "output_type": "stream",
          "text": [
            "1\n",
            "2\n",
            "3\n",
            "4\n",
            "5\n",
            "6\n",
            "7\n",
            "8\n",
            "9\n",
            "10\n"
          ],
          "name": "stdout"
        }
      ]
    },
    {
      "cell_type": "markdown",
      "metadata": {
        "id": "vdkhB1mGJF1M"
      },
      "source": [
        "## Exercises in the class\n",
        "\n",
        "1. ### Accept number from user and calculate the sum of all number between 1 and given number\n",
        "2. ### Reverse following list using for loop statement *list1 = [10, 20, 30, 40, 50]*\n",
        "3. ### Write a Python program that prints all the numbers from 0 to 6 except 3 and 6.\n",
        "4. ### Write a Python program which iterates the integers from 1 to 50. For multiples of three print \"Fizz\" instead of the number and for the multiples of five print \"Buzz\". For numbers which are multiples of both three and five print \"FizzBuzz\".\n",
        "5. ### Create a for loop that prompts the user for a hobby 3 times, then appends each one to hobbies.\n",
        "6. ### Ask for a number and compute its  factorial\n",
        "7. ### Print First 10 natural numbers using while loop\n",
        "8. ### Display -10 to -1 using for loop"
      ]
    },
    {
      "cell_type": "code",
      "metadata": {
        "id": "LNK4J_XVJF1N",
        "outputId": "9b290ac3-3e78-4b60-941a-641c0802839a"
      },
      "source": [
        "import random\n",
        "target_number = random.randint(1, 10)\n",
        "guess_number = 0\n",
        "while target_number != guess_number:\n",
        "    guess_number = int(input(\"Continue until you guessed it\"))\n",
        "print(\"you guessed it well\")"
      ],
      "execution_count": null,
      "outputs": [
        {
          "output_type": "stream",
          "text": [
            "Continue until you guessed it2\n",
            "Continue until you guessed it3\n",
            "Continue until you guessed it4\n",
            "Continue until you guessed it5\n",
            "Continue until you guessed it6\n",
            "Continue until you guessed it7\n"
          ],
          "name": "stdout"
        }
      ]
    },
    {
      "cell_type": "code",
      "metadata": {
        "id": "rzg7ROvbJF1O"
      },
      "source": [
        ""
      ],
      "execution_count": null,
      "outputs": []
    }
  ]
}